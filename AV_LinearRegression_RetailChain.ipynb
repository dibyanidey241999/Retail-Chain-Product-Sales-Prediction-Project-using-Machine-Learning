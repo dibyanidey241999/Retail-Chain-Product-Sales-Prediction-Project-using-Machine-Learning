{
 "cells": [
  {
   "cell_type": "raw",
   "metadata": {
    "id": "k75Ql0E601WC"
   },
   "source": [
    "Problem Statement : \n",
    "\n",
    "One of the largest retail chains in the world wants to use their vast data source to build an efficient forecasting model to predict the sales for each SKU in its portfolio at its 76 different stores using historical sales data for the past 3 years on a week-on-week basis. Sales and promotional information is also available for each week - product and store wise. \n",
    "\n",
    "However, no other information regarding stores and products are available. So we need to forecast accurately the sales values for every such product/SKU-store combination for the next 12 weeks accurately.\n",
    "\n",
    "Data Description:\n",
    "\n",
    "Variable | Definition\n",
    "\n",
    "record_ID           | Unique ID for each week store sku combination\n",
    "week                  | Starting Date of the week\n",
    "store_id              | Unique ID for each store (no numerical order to be assumed)\n",
    "sku_id                | Unique ID for each product (no numerical order to be assumed)\n",
    "total_price        | Sales Price of the product\n",
    "base_price       | Base price of the product\n",
    "is_featured_sku | Was part of the featured item of the week\n",
    "is_display_sku   | Product was on display at a prominent place at the store\n",
    "units_sold          | (Target) Total Units sold for that week-store-sku combination\n",
    "\n",
    "\n",
    "Evaluation Metric:\n",
    "\n",
    "The evaluation metric is 100*RMSLE (Root Mean Squared Log Error).\n",
    "The basic objective is to implement the project with linear regression and comes up with as much accuracy we can ."
   ]
  },
  {
   "cell_type": "code",
   "execution_count": 1,
   "metadata": {},
   "outputs": [
    {
     "name": "stderr",
     "output_type": "stream",
     "text": [
      "<ipython-input-1-e7b1650bcb4d>:2: FutureWarning: pandas.util.testing is deprecated. Use the functions in the public API at pandas.testing instead.\n",
      "  import pandas.util.testing as tm\n",
      "C:\\Users\\dibya\\anaconda3\\lib\\site-packages\\scipy\\__init__.py:138: UserWarning: A NumPy version >=1.16.5 and <1.23.0 is required for this version of SciPy (detected version 1.23.5)\n",
      "  warnings.warn(f\"A NumPy version >={np_minversion} and <{np_maxversion} is required for this version of \"\n"
     ]
    }
   ],
   "source": [
    "import pandas as pd\n",
    "import pandas.util.testing as tm\n",
    "\n",
    "import numpy as np\n",
    "\n",
    "import matplotlib.pyplot as plt\n",
    "%matplotlib inline \n",
    "\n",
    "import seaborn as sns\n",
    "\n",
    "import datetime as dt \n",
    "from datetime import timedelta \n",
    "\n",
    "from scipy import stats\n",
    "\n",
    "import warnings\n",
    "warnings.filterwarnings(\"ignore\")"
   ]
  },
  {
   "cell_type": "code",
   "execution_count": 2,
   "metadata": {
    "id": "qx7M_P-W1Fh9"
   },
   "outputs": [],
   "source": [
    "train = pd.read_csv(\"RetailChain_Train.csv\")\n",
    "test = pd.read_csv(\"RetailChain_Test.csv\")"
   ]
  },
  {
   "cell_type": "code",
   "execution_count": 3,
   "metadata": {
    "colab": {
     "base_uri": "https://localhost:8080/",
     "height": 206
    },
    "id": "ik0PQL7y1FkU",
    "outputId": "1dfba086-24a3-42ba-cd02-22b2dc41d95e"
   },
   "outputs": [
    {
     "data": {
      "text/html": [
       "<div>\n",
       "<style scoped>\n",
       "    .dataframe tbody tr th:only-of-type {\n",
       "        vertical-align: middle;\n",
       "    }\n",
       "\n",
       "    .dataframe tbody tr th {\n",
       "        vertical-align: top;\n",
       "    }\n",
       "\n",
       "    .dataframe thead th {\n",
       "        text-align: right;\n",
       "    }\n",
       "</style>\n",
       "<table border=\"1\" class=\"dataframe\">\n",
       "  <thead>\n",
       "    <tr style=\"text-align: right;\">\n",
       "      <th></th>\n",
       "      <th>record_ID</th>\n",
       "      <th>week</th>\n",
       "      <th>store_id</th>\n",
       "      <th>sku_id</th>\n",
       "      <th>total_price</th>\n",
       "      <th>base_price</th>\n",
       "      <th>is_featured_sku</th>\n",
       "      <th>is_display_sku</th>\n",
       "      <th>units_sold</th>\n",
       "    </tr>\n",
       "  </thead>\n",
       "  <tbody>\n",
       "    <tr>\n",
       "      <th>0</th>\n",
       "      <td>1</td>\n",
       "      <td>17/01/11</td>\n",
       "      <td>8091</td>\n",
       "      <td>216418</td>\n",
       "      <td>99.0375</td>\n",
       "      <td>111.8625</td>\n",
       "      <td>0</td>\n",
       "      <td>0</td>\n",
       "      <td>20</td>\n",
       "    </tr>\n",
       "    <tr>\n",
       "      <th>1</th>\n",
       "      <td>2</td>\n",
       "      <td>17/01/11</td>\n",
       "      <td>8091</td>\n",
       "      <td>216419</td>\n",
       "      <td>99.0375</td>\n",
       "      <td>99.0375</td>\n",
       "      <td>0</td>\n",
       "      <td>0</td>\n",
       "      <td>28</td>\n",
       "    </tr>\n",
       "    <tr>\n",
       "      <th>2</th>\n",
       "      <td>3</td>\n",
       "      <td>17/01/11</td>\n",
       "      <td>8091</td>\n",
       "      <td>216425</td>\n",
       "      <td>133.9500</td>\n",
       "      <td>133.9500</td>\n",
       "      <td>0</td>\n",
       "      <td>0</td>\n",
       "      <td>19</td>\n",
       "    </tr>\n",
       "    <tr>\n",
       "      <th>3</th>\n",
       "      <td>4</td>\n",
       "      <td>17/01/11</td>\n",
       "      <td>8091</td>\n",
       "      <td>216233</td>\n",
       "      <td>133.9500</td>\n",
       "      <td>133.9500</td>\n",
       "      <td>0</td>\n",
       "      <td>0</td>\n",
       "      <td>44</td>\n",
       "    </tr>\n",
       "    <tr>\n",
       "      <th>4</th>\n",
       "      <td>5</td>\n",
       "      <td>17/01/11</td>\n",
       "      <td>8091</td>\n",
       "      <td>217390</td>\n",
       "      <td>141.0750</td>\n",
       "      <td>141.0750</td>\n",
       "      <td>0</td>\n",
       "      <td>0</td>\n",
       "      <td>52</td>\n",
       "    </tr>\n",
       "  </tbody>\n",
       "</table>\n",
       "</div>"
      ],
      "text/plain": [
       "   record_ID      week  store_id  sku_id  total_price  base_price  \\\n",
       "0          1  17/01/11      8091  216418      99.0375    111.8625   \n",
       "1          2  17/01/11      8091  216419      99.0375     99.0375   \n",
       "2          3  17/01/11      8091  216425     133.9500    133.9500   \n",
       "3          4  17/01/11      8091  216233     133.9500    133.9500   \n",
       "4          5  17/01/11      8091  217390     141.0750    141.0750   \n",
       "\n",
       "   is_featured_sku  is_display_sku  units_sold  \n",
       "0                0               0          20  \n",
       "1                0               0          28  \n",
       "2                0               0          19  \n",
       "3                0               0          44  \n",
       "4                0               0          52  "
      ]
     },
     "execution_count": 3,
     "metadata": {},
     "output_type": "execute_result"
    }
   ],
   "source": [
    "train.head()"
   ]
  },
  {
   "cell_type": "code",
   "execution_count": 4,
   "metadata": {
    "colab": {
     "base_uri": "https://localhost:8080/"
    },
    "id": "O2StKbopqRxl",
    "outputId": "1fd0c2fa-6837-4a85-f3a2-10ba8e967661"
   },
   "outputs": [
    {
     "data": {
      "text/plain": [
       "(150150, 9)"
      ]
     },
     "execution_count": 4,
     "metadata": {},
     "output_type": "execute_result"
    }
   ],
   "source": [
    "train.shape"
   ]
  },
  {
   "cell_type": "code",
   "execution_count": 5,
   "metadata": {
    "colab": {
     "base_uri": "https://localhost:8080/",
     "height": 206
    },
    "id": "9ijNcU6LqWob",
    "outputId": "b640a411-8d7f-4d38-97e5-224b1651c49a"
   },
   "outputs": [
    {
     "data": {
      "text/html": [
       "<div>\n",
       "<style scoped>\n",
       "    .dataframe tbody tr th:only-of-type {\n",
       "        vertical-align: middle;\n",
       "    }\n",
       "\n",
       "    .dataframe tbody tr th {\n",
       "        vertical-align: top;\n",
       "    }\n",
       "\n",
       "    .dataframe thead th {\n",
       "        text-align: right;\n",
       "    }\n",
       "</style>\n",
       "<table border=\"1\" class=\"dataframe\">\n",
       "  <thead>\n",
       "    <tr style=\"text-align: right;\">\n",
       "      <th></th>\n",
       "      <th>record_ID</th>\n",
       "      <th>week</th>\n",
       "      <th>store_id</th>\n",
       "      <th>sku_id</th>\n",
       "      <th>total_price</th>\n",
       "      <th>base_price</th>\n",
       "      <th>is_featured_sku</th>\n",
       "      <th>is_display_sku</th>\n",
       "    </tr>\n",
       "  </thead>\n",
       "  <tbody>\n",
       "    <tr>\n",
       "      <th>0</th>\n",
       "      <td>212645</td>\n",
       "      <td>16/07/13</td>\n",
       "      <td>8091</td>\n",
       "      <td>216418</td>\n",
       "      <td>108.3000</td>\n",
       "      <td>108.3000</td>\n",
       "      <td>0</td>\n",
       "      <td>0</td>\n",
       "    </tr>\n",
       "    <tr>\n",
       "      <th>1</th>\n",
       "      <td>212646</td>\n",
       "      <td>16/07/13</td>\n",
       "      <td>8091</td>\n",
       "      <td>216419</td>\n",
       "      <td>109.0125</td>\n",
       "      <td>109.0125</td>\n",
       "      <td>0</td>\n",
       "      <td>0</td>\n",
       "    </tr>\n",
       "    <tr>\n",
       "      <th>2</th>\n",
       "      <td>212647</td>\n",
       "      <td>16/07/13</td>\n",
       "      <td>8091</td>\n",
       "      <td>216425</td>\n",
       "      <td>133.9500</td>\n",
       "      <td>133.9500</td>\n",
       "      <td>0</td>\n",
       "      <td>0</td>\n",
       "    </tr>\n",
       "    <tr>\n",
       "      <th>3</th>\n",
       "      <td>212648</td>\n",
       "      <td>16/07/13</td>\n",
       "      <td>8091</td>\n",
       "      <td>216233</td>\n",
       "      <td>133.9500</td>\n",
       "      <td>133.9500</td>\n",
       "      <td>0</td>\n",
       "      <td>0</td>\n",
       "    </tr>\n",
       "    <tr>\n",
       "      <th>4</th>\n",
       "      <td>212649</td>\n",
       "      <td>16/07/13</td>\n",
       "      <td>8091</td>\n",
       "      <td>217390</td>\n",
       "      <td>176.7000</td>\n",
       "      <td>176.7000</td>\n",
       "      <td>0</td>\n",
       "      <td>0</td>\n",
       "    </tr>\n",
       "  </tbody>\n",
       "</table>\n",
       "</div>"
      ],
      "text/plain": [
       "   record_ID      week  store_id  sku_id  total_price  base_price  \\\n",
       "0     212645  16/07/13      8091  216418     108.3000    108.3000   \n",
       "1     212646  16/07/13      8091  216419     109.0125    109.0125   \n",
       "2     212647  16/07/13      8091  216425     133.9500    133.9500   \n",
       "3     212648  16/07/13      8091  216233     133.9500    133.9500   \n",
       "4     212649  16/07/13      8091  217390     176.7000    176.7000   \n",
       "\n",
       "   is_featured_sku  is_display_sku  \n",
       "0                0               0  \n",
       "1                0               0  \n",
       "2                0               0  \n",
       "3                0               0  \n",
       "4                0               0  "
      ]
     },
     "execution_count": 5,
     "metadata": {},
     "output_type": "execute_result"
    }
   ],
   "source": [
    "test.head()"
   ]
  },
  {
   "cell_type": "code",
   "execution_count": 6,
   "metadata": {
    "colab": {
     "base_uri": "https://localhost:8080/"
    },
    "id": "qV73mp6RqZYK",
    "outputId": "4f723f35-9ec0-43a0-ab68-2bb0481cf9eb"
   },
   "outputs": [
    {
     "data": {
      "text/plain": [
       "(13860, 8)"
      ]
     },
     "execution_count": 6,
     "metadata": {},
     "output_type": "execute_result"
    }
   ],
   "source": [
    "test.shape"
   ]
  },
  {
   "cell_type": "markdown",
   "metadata": {
    "id": "dOYQmhOTqkk1"
   },
   "source": [
    "# Data Cleaning"
   ]
  },
  {
   "cell_type": "code",
   "execution_count": 7,
   "metadata": {
    "colab": {
     "base_uri": "https://localhost:8080/"
    },
    "id": "YCVNiGrt1Fo0",
    "outputId": "7929a561-dbe4-4b3f-ae45-41b694ba747a"
   },
   "outputs": [
    {
     "name": "stdout",
     "output_type": "stream",
     "text": [
      "<class 'pandas.core.frame.DataFrame'>\n",
      "RangeIndex: 150150 entries, 0 to 150149\n",
      "Data columns (total 9 columns):\n",
      " #   Column           Non-Null Count   Dtype  \n",
      "---  ------           --------------   -----  \n",
      " 0   record_ID        150150 non-null  int64  \n",
      " 1   week             150150 non-null  object \n",
      " 2   store_id         150150 non-null  int64  \n",
      " 3   sku_id           150150 non-null  int64  \n",
      " 4   total_price      150149 non-null  float64\n",
      " 5   base_price       150150 non-null  float64\n",
      " 6   is_featured_sku  150150 non-null  int64  \n",
      " 7   is_display_sku   150150 non-null  int64  \n",
      " 8   units_sold       150150 non-null  int64  \n",
      "dtypes: float64(2), int64(6), object(1)\n",
      "memory usage: 10.3+ MB\n"
     ]
    }
   ],
   "source": [
    "train.info()"
   ]
  },
  {
   "cell_type": "code",
   "execution_count": 8,
   "metadata": {
    "colab": {
     "base_uri": "https://localhost:8080/"
    },
    "id": "iI3rfAL01Fqg",
    "outputId": "56a1b4dd-102d-4dd3-872e-ec898af0cf5c"
   },
   "outputs": [
    {
     "data": {
      "text/plain": [
       "record_ID          0\n",
       "week               0\n",
       "store_id           0\n",
       "sku_id             0\n",
       "total_price        1\n",
       "base_price         0\n",
       "is_featured_sku    0\n",
       "is_display_sku     0\n",
       "units_sold         0\n",
       "dtype: int64"
      ]
     },
     "execution_count": 8,
     "metadata": {},
     "output_type": "execute_result"
    }
   ],
   "source": [
    "train.isna().sum()"
   ]
  },
  {
   "cell_type": "code",
   "execution_count": 9,
   "metadata": {
    "colab": {
     "base_uri": "https://localhost:8080/"
    },
    "id": "jJ8JsISJquuD",
    "outputId": "e0b0db46-748f-4051-ec29-dbd87a90cbf1",
    "scrolled": true
   },
   "outputs": [
    {
     "data": {
      "text/plain": [
       "array(['17/01/11', '24/01/11', '31/01/11', '07/02/11', '14/02/11',\n",
       "       '21/02/11', '28/02/11', '07/03/11', '14/03/11', '21/03/11',\n",
       "       '28/03/11', '04/04/11', '11/04/11', '18/04/11', '25/04/11',\n",
       "       '02/05/11', '09/05/11', '16/05/11', '23/05/11', '30/05/11',\n",
       "       '06/06/11', '13/06/11', '20/06/11', '27/06/11', '04/07/11',\n",
       "       '11/07/11', '18/07/11', '25/07/11', '01/08/11', '08/08/11',\n",
       "       '15/08/11', '22/08/11', '29/08/11', '05/09/11', '12/09/11',\n",
       "       '19/09/11', '26/09/11', '03/10/11', '10/10/11', '17/10/11',\n",
       "       '24/10/11', '31/10/11', '07/11/11', '14/11/11', '21/11/11',\n",
       "       '28/11/11', '05/12/11', '12/12/11', '19/12/11', '26/12/11',\n",
       "       '02/01/12', '09/01/12', '16/01/12', '23/01/12', '30/01/12',\n",
       "       '06/02/12', '13/02/12', '20/02/12', '27/02/12', '06/03/12',\n",
       "       '13/03/12', '20/03/12', '27/03/12', '03/04/12', '10/04/12',\n",
       "       '17/04/12', '24/04/12', '01/05/12', '08/05/12', '15/05/12',\n",
       "       '22/05/12', '29/05/12', '05/06/12', '12/06/12', '19/06/12',\n",
       "       '26/06/12', '03/07/12', '10/07/12', '17/07/12', '24/07/12',\n",
       "       '31/07/12', '07/08/12', '14/08/12', '21/08/12', '28/08/12',\n",
       "       '04/09/12', '11/09/12', '18/09/12', '25/09/12', '02/10/12',\n",
       "       '09/10/12', '16/10/12', '23/10/12', '30/10/12', '06/11/12',\n",
       "       '13/11/12', '20/11/12', '27/11/12', '04/12/12', '11/12/12',\n",
       "       '18/12/12', '25/12/12', '01/01/13', '08/01/13', '15/01/13',\n",
       "       '22/01/13', '29/01/13', '05/02/13', '12/02/13', '19/02/13',\n",
       "       '26/02/13', '05/03/13', '12/03/13', '19/03/13', '26/03/13',\n",
       "       '02/04/13', '09/04/13', '16/04/13', '23/04/13', '30/04/13',\n",
       "       '07/05/13', '14/05/13', '21/05/13', '28/05/13', '04/06/13',\n",
       "       '11/06/13', '18/06/13', '25/06/13', '02/07/13', '09/07/13'],\n",
       "      dtype=object)"
      ]
     },
     "execution_count": 9,
     "metadata": {},
     "output_type": "execute_result"
    }
   ],
   "source": [
    "train['week'].unique()"
   ]
  },
  {
   "cell_type": "code",
   "execution_count": 10,
   "metadata": {},
   "outputs": [],
   "source": [
    "train1 = train.copy()"
   ]
  },
  {
   "cell_type": "code",
   "execution_count": 11,
   "metadata": {
    "colab": {
     "base_uri": "https://localhost:8080/"
    },
    "id": "jzv2DxrhqyRt",
    "outputId": "181e2c97-82f9-475f-98b0-26c86541500f"
   },
   "outputs": [
    {
     "data": {
      "text/plain": [
       "0        2011-01-17\n",
       "1        2011-01-17\n",
       "2        2011-01-17\n",
       "3        2011-01-17\n",
       "4        2011-01-17\n",
       "            ...    \n",
       "150145   2013-09-07\n",
       "150146   2013-09-07\n",
       "150147   2013-09-07\n",
       "150148   2013-09-07\n",
       "150149   2013-09-07\n",
       "Name: week, Length: 150150, dtype: datetime64[ns]"
      ]
     },
     "execution_count": 11,
     "metadata": {},
     "output_type": "execute_result"
    }
   ],
   "source": [
    "train1['week'] = pd.to_datetime(train1['week'])\n",
    "train1['week']"
   ]
  },
  {
   "cell_type": "code",
   "execution_count": 12,
   "metadata": {
    "colab": {
     "base_uri": "https://localhost:8080/"
    },
    "id": "K9AscgMvqyUg",
    "outputId": "5084b467-e2ba-421d-e512-54188ddb1f15"
   },
   "outputs": [
    {
     "data": {
      "text/plain": [
       "array([2011, 2012, 2013], dtype=int64)"
      ]
     },
     "execution_count": 12,
     "metadata": {},
     "output_type": "execute_result"
    }
   ],
   "source": [
    "train1['year'] = train1['week'].dt.year\n",
    "train1['year'].unique()"
   ]
  },
  {
   "cell_type": "code",
   "execution_count": 13,
   "metadata": {
    "colab": {
     "base_uri": "https://localhost:8080/"
    },
    "id": "BLZM5zaHqyXm",
    "outputId": "9a80c378-c89f-46f4-8cde-5f646c6b97af"
   },
   "outputs": [
    {
     "data": {
      "text/plain": [
       "array([ 1,  7,  2,  3,  4, 11,  9,  5,  6,  8, 12, 10], dtype=int64)"
      ]
     },
     "execution_count": 13,
     "metadata": {},
     "output_type": "execute_result"
    }
   ],
   "source": [
    "train1['month'] = train1['week'].dt.month\n",
    "train1['month'].unique()"
   ]
  },
  {
   "cell_type": "code",
   "execution_count": 14,
   "metadata": {
    "colab": {
     "base_uri": "https://localhost:8080/"
    },
    "id": "OdyhdOMOqyZt",
    "outputId": "e70136e4-5c68-4398-d95a-767dc0d0bfdf"
   },
   "outputs": [
    {
     "data": {
      "text/plain": [
       "array([17, 24, 31,  2, 14, 21, 28,  3,  4, 18, 25,  5, 16, 23, 30,  6, 13,\n",
       "       20, 27,  7,  8, 15, 22, 29,  9, 19, 26, 10, 11, 12,  1],\n",
       "      dtype=int64)"
      ]
     },
     "execution_count": 14,
     "metadata": {},
     "output_type": "execute_result"
    }
   ],
   "source": [
    "train1['day'] = train1['week'].dt.day\n",
    "train1['day'].unique()"
   ]
  },
  {
   "cell_type": "code",
   "execution_count": 15,
   "metadata": {
    "colab": {
     "base_uri": "https://localhost:8080/"
    },
    "id": "Jhv4QdIvqycy",
    "outputId": "f02a24ab-5e7a-4a18-ee26-323a4d87ac21"
   },
   "outputs": [
    {
     "data": {
      "text/plain": [
       "array([ 3,  4,  5, 26,  7,  8,  9, 11, 12, 13, 14, 44, 16, 17, 36, 20, 21,\n",
       "       22, 23, 24, 25, 45, 29, 30,  1, 32, 33, 34, 35, 19, 49, 38, 39, 10,\n",
       "       41, 42, 43, 28, 46, 47, 48, 50, 51, 52, 40, 31, 18, 27, 15,  6, 37],\n",
       "      dtype=int64)"
      ]
     },
     "execution_count": 15,
     "metadata": {},
     "output_type": "execute_result"
    }
   ],
   "source": [
    "train1['week_of_year'] = train1['week'].dt.weekofyear\n",
    "train1['week_of_year'].unique()"
   ]
  },
  {
   "cell_type": "code",
   "execution_count": 16,
   "metadata": {
    "colab": {
     "base_uri": "https://localhost:8080/"
    },
    "id": "FUN5Csg-qyfP",
    "outputId": "48a7e624-38cc-4619-ae7c-8bad24acb977"
   },
   "outputs": [
    {
     "data": {
      "text/plain": [
       "array([0, 5, 6, 4, 3, 2, 1], dtype=int64)"
      ]
     },
     "execution_count": 16,
     "metadata": {},
     "output_type": "execute_result"
    }
   ],
   "source": [
    "train1['day_of_week'] = train1['week'].dt.dayofweek\n",
    "train1['day_of_week'].unique()"
   ]
  },
  {
   "cell_type": "code",
   "execution_count": 17,
   "metadata": {
    "colab": {
     "base_uri": "https://localhost:8080/",
     "height": 206
    },
    "id": "paNd3sJsxh5W",
    "outputId": "bfe39e85-e40a-4d8e-ecc3-a9c29f3bcb4c"
   },
   "outputs": [
    {
     "data": {
      "text/html": [
       "<div>\n",
       "<style scoped>\n",
       "    .dataframe tbody tr th:only-of-type {\n",
       "        vertical-align: middle;\n",
       "    }\n",
       "\n",
       "    .dataframe tbody tr th {\n",
       "        vertical-align: top;\n",
       "    }\n",
       "\n",
       "    .dataframe thead th {\n",
       "        text-align: right;\n",
       "    }\n",
       "</style>\n",
       "<table border=\"1\" class=\"dataframe\">\n",
       "  <thead>\n",
       "    <tr style=\"text-align: right;\">\n",
       "      <th></th>\n",
       "      <th>record_ID</th>\n",
       "      <th>week</th>\n",
       "      <th>store_id</th>\n",
       "      <th>sku_id</th>\n",
       "      <th>total_price</th>\n",
       "      <th>base_price</th>\n",
       "      <th>is_featured_sku</th>\n",
       "      <th>is_display_sku</th>\n",
       "    </tr>\n",
       "  </thead>\n",
       "  <tbody>\n",
       "    <tr>\n",
       "      <th>0</th>\n",
       "      <td>212645</td>\n",
       "      <td>16/07/13</td>\n",
       "      <td>8091</td>\n",
       "      <td>216418</td>\n",
       "      <td>108.3000</td>\n",
       "      <td>108.3000</td>\n",
       "      <td>0</td>\n",
       "      <td>0</td>\n",
       "    </tr>\n",
       "    <tr>\n",
       "      <th>1</th>\n",
       "      <td>212646</td>\n",
       "      <td>16/07/13</td>\n",
       "      <td>8091</td>\n",
       "      <td>216419</td>\n",
       "      <td>109.0125</td>\n",
       "      <td>109.0125</td>\n",
       "      <td>0</td>\n",
       "      <td>0</td>\n",
       "    </tr>\n",
       "    <tr>\n",
       "      <th>2</th>\n",
       "      <td>212647</td>\n",
       "      <td>16/07/13</td>\n",
       "      <td>8091</td>\n",
       "      <td>216425</td>\n",
       "      <td>133.9500</td>\n",
       "      <td>133.9500</td>\n",
       "      <td>0</td>\n",
       "      <td>0</td>\n",
       "    </tr>\n",
       "    <tr>\n",
       "      <th>3</th>\n",
       "      <td>212648</td>\n",
       "      <td>16/07/13</td>\n",
       "      <td>8091</td>\n",
       "      <td>216233</td>\n",
       "      <td>133.9500</td>\n",
       "      <td>133.9500</td>\n",
       "      <td>0</td>\n",
       "      <td>0</td>\n",
       "    </tr>\n",
       "    <tr>\n",
       "      <th>4</th>\n",
       "      <td>212649</td>\n",
       "      <td>16/07/13</td>\n",
       "      <td>8091</td>\n",
       "      <td>217390</td>\n",
       "      <td>176.7000</td>\n",
       "      <td>176.7000</td>\n",
       "      <td>0</td>\n",
       "      <td>0</td>\n",
       "    </tr>\n",
       "  </tbody>\n",
       "</table>\n",
       "</div>"
      ],
      "text/plain": [
       "   record_ID      week  store_id  sku_id  total_price  base_price  \\\n",
       "0     212645  16/07/13      8091  216418     108.3000    108.3000   \n",
       "1     212646  16/07/13      8091  216419     109.0125    109.0125   \n",
       "2     212647  16/07/13      8091  216425     133.9500    133.9500   \n",
       "3     212648  16/07/13      8091  216233     133.9500    133.9500   \n",
       "4     212649  16/07/13      8091  217390     176.7000    176.7000   \n",
       "\n",
       "   is_featured_sku  is_display_sku  \n",
       "0                0               0  \n",
       "1                0               0  \n",
       "2                0               0  \n",
       "3                0               0  \n",
       "4                0               0  "
      ]
     },
     "execution_count": 17,
     "metadata": {},
     "output_type": "execute_result"
    }
   ],
   "source": [
    "test.head()"
   ]
  },
  {
   "cell_type": "code",
   "execution_count": 18,
   "metadata": {
    "colab": {
     "base_uri": "https://localhost:8080/"
    },
    "id": "afAMbR3NxqMu",
    "outputId": "843c89df-e460-4728-d45a-87e3077e810a"
   },
   "outputs": [
    {
     "name": "stdout",
     "output_type": "stream",
     "text": [
      "<class 'pandas.core.frame.DataFrame'>\n",
      "RangeIndex: 13860 entries, 0 to 13859\n",
      "Data columns (total 8 columns):\n",
      " #   Column           Non-Null Count  Dtype  \n",
      "---  ------           --------------  -----  \n",
      " 0   record_ID        13860 non-null  int64  \n",
      " 1   week             13860 non-null  object \n",
      " 2   store_id         13860 non-null  int64  \n",
      " 3   sku_id           13860 non-null  int64  \n",
      " 4   total_price      13860 non-null  float64\n",
      " 5   base_price       13860 non-null  float64\n",
      " 6   is_featured_sku  13860 non-null  int64  \n",
      " 7   is_display_sku   13860 non-null  int64  \n",
      "dtypes: float64(2), int64(5), object(1)\n",
      "memory usage: 866.4+ KB\n"
     ]
    }
   ],
   "source": [
    "test.info()"
   ]
  },
  {
   "cell_type": "code",
   "execution_count": 19,
   "metadata": {
    "colab": {
     "base_uri": "https://localhost:8080/"
    },
    "id": "B4Bxuo5LxqTm",
    "outputId": "4aff6535-a075-4681-c80f-5b6b3e92661f"
   },
   "outputs": [
    {
     "data": {
      "text/plain": [
       "record_ID          0\n",
       "week               0\n",
       "store_id           0\n",
       "sku_id             0\n",
       "total_price        0\n",
       "base_price         0\n",
       "is_featured_sku    0\n",
       "is_display_sku     0\n",
       "dtype: int64"
      ]
     },
     "execution_count": 19,
     "metadata": {},
     "output_type": "execute_result"
    }
   ],
   "source": [
    "test.isna().sum()"
   ]
  },
  {
   "cell_type": "code",
   "execution_count": 20,
   "metadata": {},
   "outputs": [],
   "source": [
    "test1 = test.copy()"
   ]
  },
  {
   "cell_type": "code",
   "execution_count": 21,
   "metadata": {
    "colab": {
     "base_uri": "https://localhost:8080/"
    },
    "id": "f_CpT0t2xqVm",
    "outputId": "5061d931-9b2f-4d33-8e3a-ad1c3b8257c6"
   },
   "outputs": [
    {
     "data": {
      "text/plain": [
       "0       2013-07-16\n",
       "1       2013-07-16\n",
       "2       2013-07-16\n",
       "3       2013-07-16\n",
       "4       2013-07-16\n",
       "           ...    \n",
       "13855   2013-01-10\n",
       "13856   2013-01-10\n",
       "13857   2013-01-10\n",
       "13858   2013-01-10\n",
       "13859   2013-01-10\n",
       "Name: week, Length: 13860, dtype: datetime64[ns]"
      ]
     },
     "execution_count": 21,
     "metadata": {},
     "output_type": "execute_result"
    }
   ],
   "source": [
    "test1['week'] = pd.to_datetime(test1['week'])\n",
    "test1['week']"
   ]
  },
  {
   "cell_type": "code",
   "execution_count": 22,
   "metadata": {
    "colab": {
     "base_uri": "https://localhost:8080/"
    },
    "id": "QKAqwwbpxqXS",
    "outputId": "2fe680a2-89b4-4f58-f084-66dd7afb71a7"
   },
   "outputs": [
    {
     "data": {
      "text/plain": [
       "array([2013], dtype=int64)"
      ]
     },
     "execution_count": 22,
     "metadata": {},
     "output_type": "execute_result"
    }
   ],
   "source": [
    "test1['year'] = test1['week'].dt.year\n",
    "test1['year'].unique()"
   ]
  },
  {
   "cell_type": "code",
   "execution_count": 23,
   "metadata": {
    "colab": {
     "base_uri": "https://localhost:8080/"
    },
    "id": "PxfMWS1XxqZK",
    "outputId": "fabe53ae-1bc5-4733-b5ef-95b171dcca2b"
   },
   "outputs": [
    {
     "data": {
      "text/plain": [
       "array([ 7,  6,  8,  3, 10,  9,  1], dtype=int64)"
      ]
     },
     "execution_count": 23,
     "metadata": {},
     "output_type": "execute_result"
    }
   ],
   "source": [
    "test1['month'] = test1['week'].dt.month\n",
    "test1['month'].unique()"
   ]
  },
  {
   "cell_type": "code",
   "execution_count": 24,
   "metadata": {
    "colab": {
     "base_uri": "https://localhost:8080/"
    },
    "id": "s5Zdfuftx-p1",
    "outputId": "5da49684-58ae-4d6c-e650-bb909d517f59"
   },
   "outputs": [
    {
     "data": {
      "text/plain": [
       "array([16, 23, 30,  8, 13, 20, 27,  9, 17, 24, 10], dtype=int64)"
      ]
     },
     "execution_count": 24,
     "metadata": {},
     "output_type": "execute_result"
    }
   ],
   "source": [
    "test1['day'] = test1['week'].dt.day\n",
    "test1['day'].unique()"
   ]
  },
  {
   "cell_type": "code",
   "execution_count": 25,
   "metadata": {
    "colab": {
     "base_uri": "https://localhost:8080/"
    },
    "id": "iW-qQHTQx-sg",
    "outputId": "32d148df-c783-4457-bafe-68eeede48c5a"
   },
   "outputs": [
    {
     "data": {
      "text/plain": [
       "array([29, 30, 31, 23, 33, 34, 35, 10, 41, 38, 39,  2], dtype=int64)"
      ]
     },
     "execution_count": 25,
     "metadata": {},
     "output_type": "execute_result"
    }
   ],
   "source": [
    "test1['week_of_year'] = test1['week'].dt.weekofyear\n",
    "test1['week_of_year'].unique()"
   ]
  },
  {
   "cell_type": "code",
   "execution_count": 26,
   "metadata": {
    "colab": {
     "base_uri": "https://localhost:8080/"
    },
    "id": "W5vm3hJXx-u0",
    "outputId": "68c65a2e-92f1-4809-ea08-c63457500985"
   },
   "outputs": [
    {
     "data": {
      "text/plain": [
       "array([1, 5, 2, 3], dtype=int64)"
      ]
     },
     "execution_count": 26,
     "metadata": {},
     "output_type": "execute_result"
    }
   ],
   "source": [
    "test1['day_of_week'] = test1['week'].dt.dayofweek\n",
    "test1['day_of_week'].unique()"
   ]
  },
  {
   "cell_type": "markdown",
   "metadata": {
    "id": "a0zELUdExeh7"
   },
   "source": [
    "# Feature Engineering"
   ]
  },
  {
   "cell_type": "code",
   "execution_count": 27,
   "metadata": {
    "colab": {
     "base_uri": "https://localhost:8080/"
    },
    "id": "TzpRtXwSxerS",
    "outputId": "b0cbddbb-d397-4542-be16-2acb2e9dc39c"
   },
   "outputs": [
    {
     "data": {
      "text/plain": [
       "record_ID          0\n",
       "week               0\n",
       "store_id           0\n",
       "sku_id             0\n",
       "total_price        1\n",
       "base_price         0\n",
       "is_featured_sku    0\n",
       "is_display_sku     0\n",
       "units_sold         0\n",
       "year               0\n",
       "month              0\n",
       "day                0\n",
       "week_of_year       0\n",
       "day_of_week        0\n",
       "dtype: int64"
      ]
     },
     "execution_count": 27,
     "metadata": {},
     "output_type": "execute_result"
    }
   ],
   "source": [
    "train1.isnull().sum()"
   ]
  },
  {
   "cell_type": "markdown",
   "metadata": {
    "id": "WXA8keCAxet_"
   },
   "source": [
    "Only 1 missing value is present in the column 'total_price'.  So, we can replace the missing value with median"
   ]
  },
  {
   "cell_type": "code",
   "execution_count": 28,
   "metadata": {
    "colab": {
     "base_uri": "https://localhost:8080/"
    },
    "id": "Lqu-EM1Gxewi",
    "outputId": "0b5c9a1a-c757-460c-b8da-e496c2e763ea"
   },
   "outputs": [
    {
     "data": {
      "text/plain": [
       "198.075"
      ]
     },
     "execution_count": 28,
     "metadata": {},
     "output_type": "execute_result"
    }
   ],
   "source": [
    "train1['total_price'].median()"
   ]
  },
  {
   "cell_type": "code",
   "execution_count": 29,
   "metadata": {
    "id": "uTD4tuYfz6ed"
   },
   "outputs": [],
   "source": [
    "train1['total_price'] = train1['total_price'].fillna(train1['total_price'].median())"
   ]
  },
  {
   "cell_type": "code",
   "execution_count": 30,
   "metadata": {},
   "outputs": [
    {
     "data": {
      "text/html": [
       "<div>\n",
       "<style scoped>\n",
       "    .dataframe tbody tr th:only-of-type {\n",
       "        vertical-align: middle;\n",
       "    }\n",
       "\n",
       "    .dataframe tbody tr th {\n",
       "        vertical-align: top;\n",
       "    }\n",
       "\n",
       "    .dataframe thead th {\n",
       "        text-align: right;\n",
       "    }\n",
       "</style>\n",
       "<table border=\"1\" class=\"dataframe\">\n",
       "  <thead>\n",
       "    <tr style=\"text-align: right;\">\n",
       "      <th></th>\n",
       "      <th>record_ID</th>\n",
       "      <th>week</th>\n",
       "      <th>store_id</th>\n",
       "      <th>sku_id</th>\n",
       "      <th>total_price</th>\n",
       "      <th>base_price</th>\n",
       "      <th>is_featured_sku</th>\n",
       "      <th>is_display_sku</th>\n",
       "      <th>units_sold</th>\n",
       "      <th>year</th>\n",
       "      <th>month</th>\n",
       "      <th>day</th>\n",
       "      <th>week_of_year</th>\n",
       "      <th>day_of_week</th>\n",
       "    </tr>\n",
       "  </thead>\n",
       "  <tbody>\n",
       "    <tr>\n",
       "      <th>0</th>\n",
       "      <td>1</td>\n",
       "      <td>2011-01-17</td>\n",
       "      <td>8091</td>\n",
       "      <td>216418</td>\n",
       "      <td>99.0375</td>\n",
       "      <td>111.8625</td>\n",
       "      <td>0</td>\n",
       "      <td>0</td>\n",
       "      <td>20</td>\n",
       "      <td>2011</td>\n",
       "      <td>1</td>\n",
       "      <td>17</td>\n",
       "      <td>3</td>\n",
       "      <td>0</td>\n",
       "    </tr>\n",
       "    <tr>\n",
       "      <th>1</th>\n",
       "      <td>2</td>\n",
       "      <td>2011-01-17</td>\n",
       "      <td>8091</td>\n",
       "      <td>216419</td>\n",
       "      <td>99.0375</td>\n",
       "      <td>99.0375</td>\n",
       "      <td>0</td>\n",
       "      <td>0</td>\n",
       "      <td>28</td>\n",
       "      <td>2011</td>\n",
       "      <td>1</td>\n",
       "      <td>17</td>\n",
       "      <td>3</td>\n",
       "      <td>0</td>\n",
       "    </tr>\n",
       "    <tr>\n",
       "      <th>2</th>\n",
       "      <td>3</td>\n",
       "      <td>2011-01-17</td>\n",
       "      <td>8091</td>\n",
       "      <td>216425</td>\n",
       "      <td>133.9500</td>\n",
       "      <td>133.9500</td>\n",
       "      <td>0</td>\n",
       "      <td>0</td>\n",
       "      <td>19</td>\n",
       "      <td>2011</td>\n",
       "      <td>1</td>\n",
       "      <td>17</td>\n",
       "      <td>3</td>\n",
       "      <td>0</td>\n",
       "    </tr>\n",
       "    <tr>\n",
       "      <th>3</th>\n",
       "      <td>4</td>\n",
       "      <td>2011-01-17</td>\n",
       "      <td>8091</td>\n",
       "      <td>216233</td>\n",
       "      <td>133.9500</td>\n",
       "      <td>133.9500</td>\n",
       "      <td>0</td>\n",
       "      <td>0</td>\n",
       "      <td>44</td>\n",
       "      <td>2011</td>\n",
       "      <td>1</td>\n",
       "      <td>17</td>\n",
       "      <td>3</td>\n",
       "      <td>0</td>\n",
       "    </tr>\n",
       "    <tr>\n",
       "      <th>4</th>\n",
       "      <td>5</td>\n",
       "      <td>2011-01-17</td>\n",
       "      <td>8091</td>\n",
       "      <td>217390</td>\n",
       "      <td>141.0750</td>\n",
       "      <td>141.0750</td>\n",
       "      <td>0</td>\n",
       "      <td>0</td>\n",
       "      <td>52</td>\n",
       "      <td>2011</td>\n",
       "      <td>1</td>\n",
       "      <td>17</td>\n",
       "      <td>3</td>\n",
       "      <td>0</td>\n",
       "    </tr>\n",
       "  </tbody>\n",
       "</table>\n",
       "</div>"
      ],
      "text/plain": [
       "   record_ID       week  store_id  sku_id  total_price  base_price  \\\n",
       "0          1 2011-01-17      8091  216418      99.0375    111.8625   \n",
       "1          2 2011-01-17      8091  216419      99.0375     99.0375   \n",
       "2          3 2011-01-17      8091  216425     133.9500    133.9500   \n",
       "3          4 2011-01-17      8091  216233     133.9500    133.9500   \n",
       "4          5 2011-01-17      8091  217390     141.0750    141.0750   \n",
       "\n",
       "   is_featured_sku  is_display_sku  units_sold  year  month  day  \\\n",
       "0                0               0          20  2011      1   17   \n",
       "1                0               0          28  2011      1   17   \n",
       "2                0               0          19  2011      1   17   \n",
       "3                0               0          44  2011      1   17   \n",
       "4                0               0          52  2011      1   17   \n",
       "\n",
       "   week_of_year  day_of_week  \n",
       "0             3            0  \n",
       "1             3            0  \n",
       "2             3            0  \n",
       "3             3            0  \n",
       "4             3            0  "
      ]
     },
     "execution_count": 30,
     "metadata": {},
     "output_type": "execute_result"
    }
   ],
   "source": [
    "train1.head()"
   ]
  },
  {
   "cell_type": "code",
   "execution_count": 31,
   "metadata": {
    "id": "js7-whK01F2n"
   },
   "outputs": [
    {
     "data": {
      "text/html": [
       "<div>\n",
       "<style scoped>\n",
       "    .dataframe tbody tr th:only-of-type {\n",
       "        vertical-align: middle;\n",
       "    }\n",
       "\n",
       "    .dataframe tbody tr th {\n",
       "        vertical-align: top;\n",
       "    }\n",
       "\n",
       "    .dataframe thead th {\n",
       "        text-align: right;\n",
       "    }\n",
       "</style>\n",
       "<table border=\"1\" class=\"dataframe\">\n",
       "  <thead>\n",
       "    <tr style=\"text-align: right;\">\n",
       "      <th></th>\n",
       "      <th>record_ID</th>\n",
       "      <th>store_id</th>\n",
       "      <th>sku_id</th>\n",
       "      <th>total_price</th>\n",
       "      <th>base_price</th>\n",
       "      <th>is_featured_sku</th>\n",
       "      <th>is_display_sku</th>\n",
       "      <th>units_sold</th>\n",
       "      <th>year</th>\n",
       "      <th>month</th>\n",
       "      <th>day</th>\n",
       "      <th>week_of_year</th>\n",
       "      <th>day_of_week</th>\n",
       "    </tr>\n",
       "  </thead>\n",
       "  <tbody>\n",
       "    <tr>\n",
       "      <th>0</th>\n",
       "      <td>1</td>\n",
       "      <td>8091</td>\n",
       "      <td>216418</td>\n",
       "      <td>99.0375</td>\n",
       "      <td>111.8625</td>\n",
       "      <td>0</td>\n",
       "      <td>0</td>\n",
       "      <td>20</td>\n",
       "      <td>2011</td>\n",
       "      <td>1</td>\n",
       "      <td>17</td>\n",
       "      <td>3</td>\n",
       "      <td>0</td>\n",
       "    </tr>\n",
       "    <tr>\n",
       "      <th>1</th>\n",
       "      <td>2</td>\n",
       "      <td>8091</td>\n",
       "      <td>216419</td>\n",
       "      <td>99.0375</td>\n",
       "      <td>99.0375</td>\n",
       "      <td>0</td>\n",
       "      <td>0</td>\n",
       "      <td>28</td>\n",
       "      <td>2011</td>\n",
       "      <td>1</td>\n",
       "      <td>17</td>\n",
       "      <td>3</td>\n",
       "      <td>0</td>\n",
       "    </tr>\n",
       "    <tr>\n",
       "      <th>2</th>\n",
       "      <td>3</td>\n",
       "      <td>8091</td>\n",
       "      <td>216425</td>\n",
       "      <td>133.9500</td>\n",
       "      <td>133.9500</td>\n",
       "      <td>0</td>\n",
       "      <td>0</td>\n",
       "      <td>19</td>\n",
       "      <td>2011</td>\n",
       "      <td>1</td>\n",
       "      <td>17</td>\n",
       "      <td>3</td>\n",
       "      <td>0</td>\n",
       "    </tr>\n",
       "    <tr>\n",
       "      <th>3</th>\n",
       "      <td>4</td>\n",
       "      <td>8091</td>\n",
       "      <td>216233</td>\n",
       "      <td>133.9500</td>\n",
       "      <td>133.9500</td>\n",
       "      <td>0</td>\n",
       "      <td>0</td>\n",
       "      <td>44</td>\n",
       "      <td>2011</td>\n",
       "      <td>1</td>\n",
       "      <td>17</td>\n",
       "      <td>3</td>\n",
       "      <td>0</td>\n",
       "    </tr>\n",
       "    <tr>\n",
       "      <th>4</th>\n",
       "      <td>5</td>\n",
       "      <td>8091</td>\n",
       "      <td>217390</td>\n",
       "      <td>141.0750</td>\n",
       "      <td>141.0750</td>\n",
       "      <td>0</td>\n",
       "      <td>0</td>\n",
       "      <td>52</td>\n",
       "      <td>2011</td>\n",
       "      <td>1</td>\n",
       "      <td>17</td>\n",
       "      <td>3</td>\n",
       "      <td>0</td>\n",
       "    </tr>\n",
       "  </tbody>\n",
       "</table>\n",
       "</div>"
      ],
      "text/plain": [
       "   record_ID  store_id  sku_id  total_price  base_price  is_featured_sku  \\\n",
       "0          1      8091  216418      99.0375    111.8625                0   \n",
       "1          2      8091  216419      99.0375     99.0375                0   \n",
       "2          3      8091  216425     133.9500    133.9500                0   \n",
       "3          4      8091  216233     133.9500    133.9500                0   \n",
       "4          5      8091  217390     141.0750    141.0750                0   \n",
       "\n",
       "   is_display_sku  units_sold  year  month  day  week_of_year  day_of_week  \n",
       "0               0          20  2011      1   17             3            0  \n",
       "1               0          28  2011      1   17             3            0  \n",
       "2               0          19  2011      1   17             3            0  \n",
       "3               0          44  2011      1   17             3            0  \n",
       "4               0          52  2011      1   17             3            0  "
      ]
     },
     "execution_count": 31,
     "metadata": {},
     "output_type": "execute_result"
    }
   ],
   "source": [
    "train2 = train1.drop(['week'], axis = 1)\n",
    "train2.head()"
   ]
  },
  {
   "cell_type": "code",
   "execution_count": 32,
   "metadata": {
    "id": "Ec8F2R841F4Y"
   },
   "outputs": [
    {
     "data": {
      "text/html": [
       "<div>\n",
       "<style scoped>\n",
       "    .dataframe tbody tr th:only-of-type {\n",
       "        vertical-align: middle;\n",
       "    }\n",
       "\n",
       "    .dataframe tbody tr th {\n",
       "        vertical-align: top;\n",
       "    }\n",
       "\n",
       "    .dataframe thead th {\n",
       "        text-align: right;\n",
       "    }\n",
       "</style>\n",
       "<table border=\"1\" class=\"dataframe\">\n",
       "  <thead>\n",
       "    <tr style=\"text-align: right;\">\n",
       "      <th></th>\n",
       "      <th>store_id</th>\n",
       "      <th>sku_id</th>\n",
       "      <th>total_price</th>\n",
       "      <th>base_price</th>\n",
       "      <th>is_featured_sku</th>\n",
       "      <th>is_display_sku</th>\n",
       "      <th>units_sold</th>\n",
       "      <th>year</th>\n",
       "      <th>month</th>\n",
       "      <th>day</th>\n",
       "      <th>week_of_year</th>\n",
       "      <th>day_of_week</th>\n",
       "    </tr>\n",
       "  </thead>\n",
       "  <tbody>\n",
       "    <tr>\n",
       "      <th>0</th>\n",
       "      <td>8091</td>\n",
       "      <td>216418</td>\n",
       "      <td>99.0375</td>\n",
       "      <td>111.8625</td>\n",
       "      <td>0</td>\n",
       "      <td>0</td>\n",
       "      <td>20</td>\n",
       "      <td>2011</td>\n",
       "      <td>1</td>\n",
       "      <td>17</td>\n",
       "      <td>3</td>\n",
       "      <td>0</td>\n",
       "    </tr>\n",
       "    <tr>\n",
       "      <th>1</th>\n",
       "      <td>8091</td>\n",
       "      <td>216419</td>\n",
       "      <td>99.0375</td>\n",
       "      <td>99.0375</td>\n",
       "      <td>0</td>\n",
       "      <td>0</td>\n",
       "      <td>28</td>\n",
       "      <td>2011</td>\n",
       "      <td>1</td>\n",
       "      <td>17</td>\n",
       "      <td>3</td>\n",
       "      <td>0</td>\n",
       "    </tr>\n",
       "    <tr>\n",
       "      <th>2</th>\n",
       "      <td>8091</td>\n",
       "      <td>216425</td>\n",
       "      <td>133.9500</td>\n",
       "      <td>133.9500</td>\n",
       "      <td>0</td>\n",
       "      <td>0</td>\n",
       "      <td>19</td>\n",
       "      <td>2011</td>\n",
       "      <td>1</td>\n",
       "      <td>17</td>\n",
       "      <td>3</td>\n",
       "      <td>0</td>\n",
       "    </tr>\n",
       "    <tr>\n",
       "      <th>3</th>\n",
       "      <td>8091</td>\n",
       "      <td>216233</td>\n",
       "      <td>133.9500</td>\n",
       "      <td>133.9500</td>\n",
       "      <td>0</td>\n",
       "      <td>0</td>\n",
       "      <td>44</td>\n",
       "      <td>2011</td>\n",
       "      <td>1</td>\n",
       "      <td>17</td>\n",
       "      <td>3</td>\n",
       "      <td>0</td>\n",
       "    </tr>\n",
       "    <tr>\n",
       "      <th>4</th>\n",
       "      <td>8091</td>\n",
       "      <td>217390</td>\n",
       "      <td>141.0750</td>\n",
       "      <td>141.0750</td>\n",
       "      <td>0</td>\n",
       "      <td>0</td>\n",
       "      <td>52</td>\n",
       "      <td>2011</td>\n",
       "      <td>1</td>\n",
       "      <td>17</td>\n",
       "      <td>3</td>\n",
       "      <td>0</td>\n",
       "    </tr>\n",
       "  </tbody>\n",
       "</table>\n",
       "</div>"
      ],
      "text/plain": [
       "   store_id  sku_id  total_price  base_price  is_featured_sku  is_display_sku  \\\n",
       "0      8091  216418      99.0375    111.8625                0               0   \n",
       "1      8091  216419      99.0375     99.0375                0               0   \n",
       "2      8091  216425     133.9500    133.9500                0               0   \n",
       "3      8091  216233     133.9500    133.9500                0               0   \n",
       "4      8091  217390     141.0750    141.0750                0               0   \n",
       "\n",
       "   units_sold  year  month  day  week_of_year  day_of_week  \n",
       "0          20  2011      1   17             3            0  \n",
       "1          28  2011      1   17             3            0  \n",
       "2          19  2011      1   17             3            0  \n",
       "3          44  2011      1   17             3            0  \n",
       "4          52  2011      1   17             3            0  "
      ]
     },
     "execution_count": 32,
     "metadata": {},
     "output_type": "execute_result"
    }
   ],
   "source": [
    "train2 = train2.drop(['record_ID'], axis = 1)\n",
    "train2.head()"
   ]
  },
  {
   "cell_type": "code",
   "execution_count": 33,
   "metadata": {
    "colab": {
     "base_uri": "https://localhost:8080/"
    },
    "id": "nSHMNm5J1F7y",
    "outputId": "e9ea8a33-a640-4443-e950-cd9a3ad2ab9e"
   },
   "outputs": [
    {
     "data": {
      "text/plain": [
       "store_id             int64\n",
       "sku_id               int64\n",
       "total_price        float64\n",
       "base_price         float64\n",
       "is_featured_sku      int64\n",
       "is_display_sku       int64\n",
       "units_sold           int64\n",
       "year                 int64\n",
       "month                int64\n",
       "day                  int64\n",
       "week_of_year         int64\n",
       "day_of_week          int64\n",
       "dtype: object"
      ]
     },
     "execution_count": 33,
     "metadata": {},
     "output_type": "execute_result"
    }
   ],
   "source": [
    "train2.dtypes"
   ]
  },
  {
   "cell_type": "code",
   "execution_count": 34,
   "metadata": {
    "id": "nHIhxQfR1GNm"
   },
   "outputs": [],
   "source": [
    "test2 = test1.drop(['week'], axis = 1)"
   ]
  },
  {
   "cell_type": "code",
   "execution_count": 35,
   "metadata": {
    "id": "228W7s3Q1GRm"
   },
   "outputs": [],
   "source": [
    "test2 = test2.drop(['record_ID'], axis = 1)"
   ]
  },
  {
   "cell_type": "code",
   "execution_count": 36,
   "metadata": {
    "colab": {
     "base_uri": "https://localhost:8080/"
    },
    "id": "WO1U7Rg61GTq",
    "outputId": "5116caf4-c8c1-4fdb-c1e9-14259896c9ad"
   },
   "outputs": [
    {
     "data": {
      "text/plain": [
       "store_id             int64\n",
       "sku_id               int64\n",
       "total_price        float64\n",
       "base_price         float64\n",
       "is_featured_sku      int64\n",
       "is_display_sku       int64\n",
       "year                 int64\n",
       "month                int64\n",
       "day                  int64\n",
       "week_of_year         int64\n",
       "day_of_week          int64\n",
       "dtype: object"
      ]
     },
     "execution_count": 36,
     "metadata": {},
     "output_type": "execute_result"
    }
   ],
   "source": [
    "test2.dtypes"
   ]
  },
  {
   "cell_type": "code",
   "execution_count": 37,
   "metadata": {
    "colab": {
     "base_uri": "https://localhost:8080/"
    },
    "id": "EbPK7EnMzO5q",
    "outputId": "d29177bf-d7db-4690-bc61-06936b2e298b"
   },
   "outputs": [
    {
     "data": {
      "text/plain": [
       "array([0, 1], dtype=int64)"
      ]
     },
     "execution_count": 37,
     "metadata": {},
     "output_type": "execute_result"
    }
   ],
   "source": [
    "train2['is_featured_sku'].unique()"
   ]
  },
  {
   "cell_type": "code",
   "execution_count": 38,
   "metadata": {
    "colab": {
     "base_uri": "https://localhost:8080/"
    },
    "id": "S_KUCQ6czPZE",
    "outputId": "302978eb-8b3f-4825-f230-558608c3b9bd"
   },
   "outputs": [
    {
     "data": {
      "text/plain": [
       "array([0, 1], dtype=int64)"
      ]
     },
     "execution_count": 38,
     "metadata": {},
     "output_type": "execute_result"
    }
   ],
   "source": [
    "train2['is_display_sku'].unique()"
   ]
  },
  {
   "cell_type": "code",
   "execution_count": 39,
   "metadata": {
    "colab": {
     "base_uri": "https://localhost:8080/",
     "height": 364
    },
    "id": "fZ_EdAXvAvMW",
    "outputId": "20b9c87a-621e-49c7-8f25-351d62bf3026"
   },
   "outputs": [
    {
     "data": {
      "text/html": [
       "<div>\n",
       "<style scoped>\n",
       "    .dataframe tbody tr th:only-of-type {\n",
       "        vertical-align: middle;\n",
       "    }\n",
       "\n",
       "    .dataframe tbody tr th {\n",
       "        vertical-align: top;\n",
       "    }\n",
       "\n",
       "    .dataframe thead th {\n",
       "        text-align: right;\n",
       "    }\n",
       "</style>\n",
       "<table border=\"1\" class=\"dataframe\">\n",
       "  <thead>\n",
       "    <tr style=\"text-align: right;\">\n",
       "      <th></th>\n",
       "      <th>store_id</th>\n",
       "      <th>sku_id</th>\n",
       "      <th>total_price</th>\n",
       "      <th>base_price</th>\n",
       "      <th>is_featured_sku</th>\n",
       "      <th>is_display_sku</th>\n",
       "      <th>units_sold</th>\n",
       "      <th>year</th>\n",
       "      <th>month</th>\n",
       "      <th>day</th>\n",
       "      <th>week_of_year</th>\n",
       "      <th>day_of_week</th>\n",
       "    </tr>\n",
       "  </thead>\n",
       "  <tbody>\n",
       "    <tr>\n",
       "      <th>count</th>\n",
       "      <td>150150.000000</td>\n",
       "      <td>150150.000000</td>\n",
       "      <td>150150.000000</td>\n",
       "      <td>150150.000000</td>\n",
       "      <td>150150.000000</td>\n",
       "      <td>150150.000000</td>\n",
       "      <td>150150.000000</td>\n",
       "      <td>150150.000000</td>\n",
       "      <td>150150.000000</td>\n",
       "      <td>150150.000000</td>\n",
       "      <td>150150.000000</td>\n",
       "      <td>150150.000000</td>\n",
       "    </tr>\n",
       "    <tr>\n",
       "      <th>mean</th>\n",
       "      <td>9199.422511</td>\n",
       "      <td>254761.132468</td>\n",
       "      <td>206.626694</td>\n",
       "      <td>219.425927</td>\n",
       "      <td>0.095611</td>\n",
       "      <td>0.133200</td>\n",
       "      <td>51.674206</td>\n",
       "      <td>2011.830769</td>\n",
       "      <td>6.130769</td>\n",
       "      <td>15.700000</td>\n",
       "      <td>24.992308</td>\n",
       "      <td>1.400000</td>\n",
       "    </tr>\n",
       "    <tr>\n",
       "      <th>std</th>\n",
       "      <td>615.591445</td>\n",
       "      <td>85547.306447</td>\n",
       "      <td>103.308175</td>\n",
       "      <td>110.961712</td>\n",
       "      <td>0.294058</td>\n",
       "      <td>0.339792</td>\n",
       "      <td>60.207904</td>\n",
       "      <td>0.755887</td>\n",
       "      <td>3.438232</td>\n",
       "      <td>8.944861</td>\n",
       "      <td>14.867927</td>\n",
       "      <td>1.791439</td>\n",
       "    </tr>\n",
       "    <tr>\n",
       "      <th>min</th>\n",
       "      <td>8023.000000</td>\n",
       "      <td>216233.000000</td>\n",
       "      <td>41.325000</td>\n",
       "      <td>61.275000</td>\n",
       "      <td>0.000000</td>\n",
       "      <td>0.000000</td>\n",
       "      <td>1.000000</td>\n",
       "      <td>2011.000000</td>\n",
       "      <td>1.000000</td>\n",
       "      <td>1.000000</td>\n",
       "      <td>1.000000</td>\n",
       "      <td>0.000000</td>\n",
       "    </tr>\n",
       "    <tr>\n",
       "      <th>25%</th>\n",
       "      <td>8562.000000</td>\n",
       "      <td>217217.000000</td>\n",
       "      <td>130.387500</td>\n",
       "      <td>133.237500</td>\n",
       "      <td>0.000000</td>\n",
       "      <td>0.000000</td>\n",
       "      <td>20.000000</td>\n",
       "      <td>2011.000000</td>\n",
       "      <td>3.000000</td>\n",
       "      <td>7.000000</td>\n",
       "      <td>12.000000</td>\n",
       "      <td>0.000000</td>\n",
       "    </tr>\n",
       "    <tr>\n",
       "      <th>50%</th>\n",
       "      <td>9371.000000</td>\n",
       "      <td>222087.000000</td>\n",
       "      <td>198.075000</td>\n",
       "      <td>205.912500</td>\n",
       "      <td>0.000000</td>\n",
       "      <td>0.000000</td>\n",
       "      <td>35.000000</td>\n",
       "      <td>2012.000000</td>\n",
       "      <td>6.000000</td>\n",
       "      <td>16.000000</td>\n",
       "      <td>23.500000</td>\n",
       "      <td>1.000000</td>\n",
       "    </tr>\n",
       "    <tr>\n",
       "      <th>75%</th>\n",
       "      <td>9731.000000</td>\n",
       "      <td>245338.000000</td>\n",
       "      <td>233.700000</td>\n",
       "      <td>234.412500</td>\n",
       "      <td>0.000000</td>\n",
       "      <td>0.000000</td>\n",
       "      <td>62.000000</td>\n",
       "      <td>2012.000000</td>\n",
       "      <td>9.000000</td>\n",
       "      <td>24.000000</td>\n",
       "      <td>38.000000</td>\n",
       "      <td>2.000000</td>\n",
       "    </tr>\n",
       "    <tr>\n",
       "      <th>max</th>\n",
       "      <td>9984.000000</td>\n",
       "      <td>679023.000000</td>\n",
       "      <td>562.162500</td>\n",
       "      <td>562.162500</td>\n",
       "      <td>1.000000</td>\n",
       "      <td>1.000000</td>\n",
       "      <td>2876.000000</td>\n",
       "      <td>2013.000000</td>\n",
       "      <td>12.000000</td>\n",
       "      <td>31.000000</td>\n",
       "      <td>52.000000</td>\n",
       "      <td>6.000000</td>\n",
       "    </tr>\n",
       "  </tbody>\n",
       "</table>\n",
       "</div>"
      ],
      "text/plain": [
       "            store_id         sku_id    total_price     base_price  \\\n",
       "count  150150.000000  150150.000000  150150.000000  150150.000000   \n",
       "mean     9199.422511  254761.132468     206.626694     219.425927   \n",
       "std       615.591445   85547.306447     103.308175     110.961712   \n",
       "min      8023.000000  216233.000000      41.325000      61.275000   \n",
       "25%      8562.000000  217217.000000     130.387500     133.237500   \n",
       "50%      9371.000000  222087.000000     198.075000     205.912500   \n",
       "75%      9731.000000  245338.000000     233.700000     234.412500   \n",
       "max      9984.000000  679023.000000     562.162500     562.162500   \n",
       "\n",
       "       is_featured_sku  is_display_sku     units_sold           year  \\\n",
       "count    150150.000000   150150.000000  150150.000000  150150.000000   \n",
       "mean          0.095611        0.133200      51.674206    2011.830769   \n",
       "std           0.294058        0.339792      60.207904       0.755887   \n",
       "min           0.000000        0.000000       1.000000    2011.000000   \n",
       "25%           0.000000        0.000000      20.000000    2011.000000   \n",
       "50%           0.000000        0.000000      35.000000    2012.000000   \n",
       "75%           0.000000        0.000000      62.000000    2012.000000   \n",
       "max           1.000000        1.000000    2876.000000    2013.000000   \n",
       "\n",
       "               month            day   week_of_year    day_of_week  \n",
       "count  150150.000000  150150.000000  150150.000000  150150.000000  \n",
       "mean        6.130769      15.700000      24.992308       1.400000  \n",
       "std         3.438232       8.944861      14.867927       1.791439  \n",
       "min         1.000000       1.000000       1.000000       0.000000  \n",
       "25%         3.000000       7.000000      12.000000       0.000000  \n",
       "50%         6.000000      16.000000      23.500000       1.000000  \n",
       "75%         9.000000      24.000000      38.000000       2.000000  \n",
       "max        12.000000      31.000000      52.000000       6.000000  "
      ]
     },
     "execution_count": 39,
     "metadata": {},
     "output_type": "execute_result"
    }
   ],
   "source": [
    "train2.describe()"
   ]
  },
  {
   "cell_type": "code",
   "execution_count": 40,
   "metadata": {},
   "outputs": [
    {
     "data": {
      "text/html": [
       "<div>\n",
       "<style scoped>\n",
       "    .dataframe tbody tr th:only-of-type {\n",
       "        vertical-align: middle;\n",
       "    }\n",
       "\n",
       "    .dataframe tbody tr th {\n",
       "        vertical-align: top;\n",
       "    }\n",
       "\n",
       "    .dataframe thead th {\n",
       "        text-align: right;\n",
       "    }\n",
       "</style>\n",
       "<table border=\"1\" class=\"dataframe\">\n",
       "  <thead>\n",
       "    <tr style=\"text-align: right;\">\n",
       "      <th></th>\n",
       "      <th>store_id</th>\n",
       "      <th>sku_id</th>\n",
       "      <th>total_price</th>\n",
       "      <th>base_price</th>\n",
       "      <th>is_featured_sku</th>\n",
       "      <th>is_display_sku</th>\n",
       "      <th>units_sold</th>\n",
       "      <th>year</th>\n",
       "      <th>month</th>\n",
       "      <th>day</th>\n",
       "      <th>week_of_year</th>\n",
       "      <th>day_of_week</th>\n",
       "    </tr>\n",
       "  </thead>\n",
       "  <tbody>\n",
       "    <tr>\n",
       "      <th>0</th>\n",
       "      <td>8091</td>\n",
       "      <td>216418</td>\n",
       "      <td>99.0375</td>\n",
       "      <td>111.8625</td>\n",
       "      <td>0</td>\n",
       "      <td>0</td>\n",
       "      <td>20</td>\n",
       "      <td>2011</td>\n",
       "      <td>1</td>\n",
       "      <td>17</td>\n",
       "      <td>3</td>\n",
       "      <td>0</td>\n",
       "    </tr>\n",
       "    <tr>\n",
       "      <th>1</th>\n",
       "      <td>8091</td>\n",
       "      <td>216419</td>\n",
       "      <td>99.0375</td>\n",
       "      <td>99.0375</td>\n",
       "      <td>0</td>\n",
       "      <td>0</td>\n",
       "      <td>28</td>\n",
       "      <td>2011</td>\n",
       "      <td>1</td>\n",
       "      <td>17</td>\n",
       "      <td>3</td>\n",
       "      <td>0</td>\n",
       "    </tr>\n",
       "    <tr>\n",
       "      <th>2</th>\n",
       "      <td>8091</td>\n",
       "      <td>216425</td>\n",
       "      <td>133.9500</td>\n",
       "      <td>133.9500</td>\n",
       "      <td>0</td>\n",
       "      <td>0</td>\n",
       "      <td>19</td>\n",
       "      <td>2011</td>\n",
       "      <td>1</td>\n",
       "      <td>17</td>\n",
       "      <td>3</td>\n",
       "      <td>0</td>\n",
       "    </tr>\n",
       "    <tr>\n",
       "      <th>3</th>\n",
       "      <td>8091</td>\n",
       "      <td>216233</td>\n",
       "      <td>133.9500</td>\n",
       "      <td>133.9500</td>\n",
       "      <td>0</td>\n",
       "      <td>0</td>\n",
       "      <td>44</td>\n",
       "      <td>2011</td>\n",
       "      <td>1</td>\n",
       "      <td>17</td>\n",
       "      <td>3</td>\n",
       "      <td>0</td>\n",
       "    </tr>\n",
       "    <tr>\n",
       "      <th>4</th>\n",
       "      <td>8091</td>\n",
       "      <td>217390</td>\n",
       "      <td>141.0750</td>\n",
       "      <td>141.0750</td>\n",
       "      <td>0</td>\n",
       "      <td>0</td>\n",
       "      <td>52</td>\n",
       "      <td>2011</td>\n",
       "      <td>1</td>\n",
       "      <td>17</td>\n",
       "      <td>3</td>\n",
       "      <td>0</td>\n",
       "    </tr>\n",
       "    <tr>\n",
       "      <th>...</th>\n",
       "      <td>...</td>\n",
       "      <td>...</td>\n",
       "      <td>...</td>\n",
       "      <td>...</td>\n",
       "      <td>...</td>\n",
       "      <td>...</td>\n",
       "      <td>...</td>\n",
       "      <td>...</td>\n",
       "      <td>...</td>\n",
       "      <td>...</td>\n",
       "      <td>...</td>\n",
       "      <td>...</td>\n",
       "    </tr>\n",
       "    <tr>\n",
       "      <th>150145</th>\n",
       "      <td>9984</td>\n",
       "      <td>223245</td>\n",
       "      <td>235.8375</td>\n",
       "      <td>235.8375</td>\n",
       "      <td>0</td>\n",
       "      <td>0</td>\n",
       "      <td>38</td>\n",
       "      <td>2013</td>\n",
       "      <td>9</td>\n",
       "      <td>7</td>\n",
       "      <td>36</td>\n",
       "      <td>5</td>\n",
       "    </tr>\n",
       "    <tr>\n",
       "      <th>150146</th>\n",
       "      <td>9984</td>\n",
       "      <td>223153</td>\n",
       "      <td>235.8375</td>\n",
       "      <td>235.8375</td>\n",
       "      <td>0</td>\n",
       "      <td>0</td>\n",
       "      <td>30</td>\n",
       "      <td>2013</td>\n",
       "      <td>9</td>\n",
       "      <td>7</td>\n",
       "      <td>36</td>\n",
       "      <td>5</td>\n",
       "    </tr>\n",
       "    <tr>\n",
       "      <th>150147</th>\n",
       "      <td>9984</td>\n",
       "      <td>245338</td>\n",
       "      <td>357.6750</td>\n",
       "      <td>483.7875</td>\n",
       "      <td>1</td>\n",
       "      <td>1</td>\n",
       "      <td>31</td>\n",
       "      <td>2013</td>\n",
       "      <td>9</td>\n",
       "      <td>7</td>\n",
       "      <td>36</td>\n",
       "      <td>5</td>\n",
       "    </tr>\n",
       "    <tr>\n",
       "      <th>150148</th>\n",
       "      <td>9984</td>\n",
       "      <td>547934</td>\n",
       "      <td>141.7875</td>\n",
       "      <td>191.6625</td>\n",
       "      <td>0</td>\n",
       "      <td>1</td>\n",
       "      <td>12</td>\n",
       "      <td>2013</td>\n",
       "      <td>9</td>\n",
       "      <td>7</td>\n",
       "      <td>36</td>\n",
       "      <td>5</td>\n",
       "    </tr>\n",
       "    <tr>\n",
       "      <th>150149</th>\n",
       "      <td>9984</td>\n",
       "      <td>679023</td>\n",
       "      <td>234.4125</td>\n",
       "      <td>234.4125</td>\n",
       "      <td>0</td>\n",
       "      <td>0</td>\n",
       "      <td>15</td>\n",
       "      <td>2013</td>\n",
       "      <td>9</td>\n",
       "      <td>7</td>\n",
       "      <td>36</td>\n",
       "      <td>5</td>\n",
       "    </tr>\n",
       "  </tbody>\n",
       "</table>\n",
       "<p>150150 rows × 12 columns</p>\n",
       "</div>"
      ],
      "text/plain": [
       "        store_id  sku_id  total_price  base_price  is_featured_sku  \\\n",
       "0           8091  216418      99.0375    111.8625                0   \n",
       "1           8091  216419      99.0375     99.0375                0   \n",
       "2           8091  216425     133.9500    133.9500                0   \n",
       "3           8091  216233     133.9500    133.9500                0   \n",
       "4           8091  217390     141.0750    141.0750                0   \n",
       "...          ...     ...          ...         ...              ...   \n",
       "150145      9984  223245     235.8375    235.8375                0   \n",
       "150146      9984  223153     235.8375    235.8375                0   \n",
       "150147      9984  245338     357.6750    483.7875                1   \n",
       "150148      9984  547934     141.7875    191.6625                0   \n",
       "150149      9984  679023     234.4125    234.4125                0   \n",
       "\n",
       "        is_display_sku  units_sold  year  month  day  week_of_year  \\\n",
       "0                    0          20  2011      1   17             3   \n",
       "1                    0          28  2011      1   17             3   \n",
       "2                    0          19  2011      1   17             3   \n",
       "3                    0          44  2011      1   17             3   \n",
       "4                    0          52  2011      1   17             3   \n",
       "...                ...         ...   ...    ...  ...           ...   \n",
       "150145               0          38  2013      9    7            36   \n",
       "150146               0          30  2013      9    7            36   \n",
       "150147               1          31  2013      9    7            36   \n",
       "150148               1          12  2013      9    7            36   \n",
       "150149               0          15  2013      9    7            36   \n",
       "\n",
       "        day_of_week  \n",
       "0                 0  \n",
       "1                 0  \n",
       "2                 0  \n",
       "3                 0  \n",
       "4                 0  \n",
       "...             ...  \n",
       "150145            5  \n",
       "150146            5  \n",
       "150147            5  \n",
       "150148            5  \n",
       "150149            5  \n",
       "\n",
       "[150150 rows x 12 columns]"
      ]
     },
     "execution_count": 40,
     "metadata": {},
     "output_type": "execute_result"
    }
   ],
   "source": [
    "numerical_cols = train2.select_dtypes(include = ['int64', 'float64'])\n",
    "numerical_cols "
   ]
  },
  {
   "cell_type": "code",
   "execution_count": 41,
   "metadata": {
    "colab": {
     "base_uri": "https://localhost:8080/",
     "height": 297
    },
    "id": "645sdROO1GcM",
    "outputId": "7e112411-49fd-4690-8b7a-c3afad353099"
   },
   "outputs": [
    {
     "data": {
      "text/plain": [
       "<AxesSubplot:xlabel='total_price', ylabel='Density'>"
      ]
     },
     "execution_count": 41,
     "metadata": {},
     "output_type": "execute_result"
    },
    {
     "data": {
      "image/png": "[encoded data removed]",
      "text/plain": [
       "<Figure size 432x288 with 1 Axes>"
      ]
     },
     "metadata": {
      "needs_background": "light"
     },
     "output_type": "display_data"
    }
   ],
   "source": [
    "sns.distplot(numerical_cols['total_price'])"
   ]
  },
  {
   "cell_type": "code",
   "execution_count": 42,
   "metadata": {
    "colab": {
     "base_uri": "https://localhost:8080/",
     "height": 300
    },
    "id": "53hUcmWcA-E0",
    "outputId": "b7eb3221-8275-411d-9645-d98fe9576b7b"
   },
   "outputs": [
    {
     "data": {
      "text/plain": [
       "<AxesSubplot:xlabel='base_price', ylabel='Density'>"
      ]
     },
     "execution_count": 42,
     "metadata": {},
     "output_type": "execute_result"
    },
    {
     "data": {
      "image/png": "[encoded data removed]",
      "text/plain": [
       "<Figure size 432x288 with 1 Axes>"
      ]
     },
     "metadata": {
      "needs_background": "light"
     },
     "output_type": "display_data"
    }
   ],
   "source": [
    "sns.distplot(numerical_cols['base_price'])"
   ]
  },
  {
   "cell_type": "code",
   "execution_count": 43,
   "metadata": {
    "colab": {
     "base_uri": "https://localhost:8080/",
     "height": 297
    },
    "id": "Mm7cAypyA-KD",
    "outputId": "0a30aee8-b456-4579-be4d-c6b52a8fcf03"
   },
   "outputs": [
    {
     "data": {
      "text/plain": [
       "<AxesSubplot:xlabel='units_sold', ylabel='Density'>"
      ]
     },
     "execution_count": 43,
     "metadata": {},
     "output_type": "execute_result"
    },
    {
     "data": {
      "image/png": "[encoded data removed]",
      "text/plain": [
       "<Figure size 432x288 with 1 Axes>"
      ]
     },
     "metadata": {
      "needs_background": "light"
     },
     "output_type": "display_data"
    }
   ],
   "source": [
    "sns.distplot(numerical_cols['units_sold'])"
   ]
  },
  {
   "cell_type": "code",
   "execution_count": 44,
   "metadata": {},
   "outputs": [
    {
     "data": {
      "text/plain": [
       "<AxesSubplot:xlabel='total_price'>"
      ]
     },
     "execution_count": 44,
     "metadata": {},
     "output_type": "execute_result"
    },
    {
     "data": {
      "image/png": "[encoded data removed]",
      "text/plain": [
       "<Figure size 432x288 with 1 Axes>"
      ]
     },
     "metadata": {
      "needs_background": "light"
     },
     "output_type": "display_data"
    }
   ],
   "source": [
    "sns.boxplot(train2['total_price'])"
   ]
  },
  {
   "cell_type": "code",
   "execution_count": 45,
   "metadata": {},
   "outputs": [
    {
     "data": {
      "text/plain": [
       "<AxesSubplot:xlabel='base_price'>"
      ]
     },
     "execution_count": 45,
     "metadata": {},
     "output_type": "execute_result"
    },
    {
     "data": {
      "image/png": "[encoded data removed]",
      "text/plain": [
       "<Figure size 432x288 with 1 Axes>"
      ]
     },
     "metadata": {
      "needs_background": "light"
     },
     "output_type": "display_data"
    }
   ],
   "source": [
    "sns.boxplot(train2['base_price'])"
   ]
  },
  {
   "cell_type": "code",
   "execution_count": 46,
   "metadata": {},
   "outputs": [
    {
     "data": {
      "text/plain": [
       "<AxesSubplot:xlabel='units_sold'>"
      ]
     },
     "execution_count": 46,
     "metadata": {},
     "output_type": "execute_result"
    },
    {
     "data": {
      "image/png": "[encoded data removed]",
      "text/plain": [
       "<Figure size 432x288 with 1 Axes>"
      ]
     },
     "metadata": {
      "needs_background": "light"
     },
     "output_type": "display_data"
    }
   ],
   "source": [
    "sns.boxplot(train2['units_sold'])"
   ]
  },
  {
   "cell_type": "code",
   "execution_count": 47,
   "metadata": {},
   "outputs": [],
   "source": [
    "# univariate analysis on numerical columns\n",
    "\n",
    "def univariate_num(data, num_cols):\n",
    " \n",
    "  for i, j in enumerate(num_cols):\n",
    "    mini = data[j].min()\n",
    "    maxi = data[j].max()\n",
    "    mean = data[j].mean()\n",
    "    median = data[j].median()\n",
    "    sd = data[j].std()\n",
    "    skew = data[j].skew()\n",
    "    kurt = data[j].kurtosis()\n",
    "    upper_outlier = mean + sd \n",
    "    lower_outlier = mean - sd\n",
    "    quant25 = data[j].quantile(0.25)\n",
    "    quant75 = data[j].quantile(0.75)\n",
    "    IQR = quant75 - quant25\n",
    "    print(j, '\\n')\n",
    "    print('Minimum: ', mini)\n",
    "    print('Maximum: ', maxi)\n",
    "    print('Mean: ', mean)\n",
    "    print('Median: ', median)\n",
    "    print('SD: ', sd)\n",
    "    print('Skewness: ', skew)\n",
    "    print('Kurtosis: ', kurt)\n",
    "    print('1st quartile: ', quant25)\n",
    "    print('3rd quartile: ', quant75)\n",
    "    print('Inter-quartile Range: ', IQR)\n",
    "    print('Upper Outlier: ', upper_outlier)\n",
    "    print('Lower Outlier: ', lower_outlier, '\\n')"
   ]
  },
  {
   "cell_type": "code",
   "execution_count": 48,
   "metadata": {},
   "outputs": [
    {
     "name": "stdout",
     "output_type": "stream",
     "text": [
      "total_price \n",
      "\n",
      "Minimum:  41.325\n",
      "Maximum:  562.1625\n",
      "Mean:  206.6266940560864\n",
      "Median:  198.075\n",
      "SD:  103.30817474705154\n",
      "Skewness:  1.2505705229331843\n",
      "Kurtosis:  1.2382985982481007\n",
      "1st quartile:  130.3875\n",
      "3rd quartile:  233.7\n",
      "Inter-quartile Range:  103.3125\n",
      "Upper Outlier:  309.93486880313793\n",
      "Lower Outlier:  103.31851930903485 \n",
      "\n",
      "base_price \n",
      "\n",
      "Minimum:  61.275\n",
      "Maximum:  562.1625\n",
      "Mean:  219.4259273228659\n",
      "Median:  205.9125\n",
      "SD:  110.96171232936885\n",
      "Skewness:  1.2089916001778014\n",
      "Kurtosis:  0.8678374985354673\n",
      "1st quartile:  133.2375\n",
      "3rd quartile:  234.4125\n",
      "Inter-quartile Range:  101.17499999999998\n",
      "Upper Outlier:  330.3876396522347\n",
      "Lower Outlier:  108.46421499349705 \n",
      "\n",
      "units_sold \n",
      "\n",
      "Minimum:  1\n",
      "Maximum:  2876\n",
      "Mean:  51.6742057942058\n",
      "Median:  35.0\n",
      "SD:  60.20790385753384\n",
      "Skewness:  6.114995824093101\n",
      "Kurtosis:  93.68625251431351\n",
      "1st quartile:  20.0\n",
      "3rd quartile:  62.0\n",
      "Inter-quartile Range:  42.0\n",
      "Upper Outlier:  111.88210965173964\n",
      "Lower Outlier:  -8.533698063328046 \n",
      "\n"
     ]
    }
   ],
   "source": [
    "univariate_num(train2, ['total_price', 'base_price', 'units_sold'])"
   ]
  },
  {
   "cell_type": "code",
   "execution_count": 49,
   "metadata": {},
   "outputs": [
    {
     "name": "stdout",
     "output_type": "stream",
     "text": [
      "111.88210965173964\n"
     ]
    }
   ],
   "source": [
    "units_sold_mean = train2['units_sold'].mean()\n",
    "units_sold_st_dev = train2['units_sold'].std()\n",
    "units_sold_upper_outlier = units_sold_mean + units_sold_st_dev\n",
    "print(units_sold_upper_outlier)"
   ]
  },
  {
   "cell_type": "code",
   "execution_count": 50,
   "metadata": {},
   "outputs": [],
   "source": [
    "train2.drop(train2[train2['units_sold'] > units_sold_upper_outlier].index, inplace = True)"
   ]
  },
  {
   "cell_type": "code",
   "execution_count": 51,
   "metadata": {},
   "outputs": [
    {
     "data": {
      "text/plain": [
       "<AxesSubplot:xlabel='units_sold', ylabel='Density'>"
      ]
     },
     "execution_count": 51,
     "metadata": {},
     "output_type": "execute_result"
    },
    {
     "data": {
      "image/png": "[encoded data removed]",
      "text/plain": [
       "<Figure size 432x288 with 1 Axes>"
      ]
     },
     "metadata": {
      "needs_background": "light"
     },
     "output_type": "display_data"
    }
   ],
   "source": [
    "sns.distplot(train2['units_sold'])"
   ]
  },
  {
   "cell_type": "code",
   "execution_count": 52,
   "metadata": {
    "id": "lsCSMgBFAE45"
   },
   "outputs": [],
   "source": [
    "train2['store_id'] = train2['store_id'].astype('category')\n",
    "train2['sku_id'] = train2['sku_id'].astype('category')\n",
    "train2['is_featured_sku'] = train2['is_featured_sku'].astype('category')\n",
    "train2['is_display_sku'] = train2['is_display_sku'].astype('category')"
   ]
  },
  {
   "cell_type": "code",
   "execution_count": 53,
   "metadata": {},
   "outputs": [
    {
     "data": {
      "text/plain": [
       "<AxesSubplot:xlabel='is_featured_sku'>"
      ]
     },
     "execution_count": 53,
     "metadata": {},
     "output_type": "execute_result"
    },
    {
     "data": {
      "image/png": "[encoded data removed]",
      "text/plain": [
       "<Figure size 432x288 with 1 Axes>"
      ]
     },
     "metadata": {
      "needs_background": "light"
     },
     "output_type": "display_data"
    }
   ],
   "source": [
    "featured_sku_count = round(train2['is_featured_sku'].value_counts(normalize = True)*100, 2)\n",
    "sns.barplot(featured_sku_count, featured_sku_count.index , order = featured_sku_count.index)"
   ]
  },
  {
   "cell_type": "code",
   "execution_count": 54,
   "metadata": {},
   "outputs": [
    {
     "data": {
      "text/plain": [
       "<AxesSubplot:xlabel='is_display_sku'>"
      ]
     },
     "execution_count": 54,
     "metadata": {},
     "output_type": "execute_result"
    },
    {
     "data": {
      "image/png": "[encoded data removed]",
      "text/plain": [
       "<Figure size 432x288 with 1 Axes>"
      ]
     },
     "metadata": {
      "needs_background": "light"
     },
     "output_type": "display_data"
    }
   ],
   "source": [
    "display_sku_count = round(train2['is_display_sku'].value_counts(normalize = True)*100, 2)\n",
    "sns.barplot(display_sku_count, display_sku_count.index , order = display_sku_count.index)"
   ]
  },
  {
   "cell_type": "code",
   "execution_count": 55,
   "metadata": {},
   "outputs": [
    {
     "data": {
      "text/html": [
       "<div>\n",
       "<style scoped>\n",
       "    .dataframe tbody tr th:only-of-type {\n",
       "        vertical-align: middle;\n",
       "    }\n",
       "\n",
       "    .dataframe tbody tr th {\n",
       "        vertical-align: top;\n",
       "    }\n",
       "\n",
       "    .dataframe thead th {\n",
       "        text-align: right;\n",
       "    }\n",
       "</style>\n",
       "<table border=\"1\" class=\"dataframe\">\n",
       "  <thead>\n",
       "    <tr style=\"text-align: right;\">\n",
       "      <th></th>\n",
       "      <th>total_price</th>\n",
       "      <th>base_price</th>\n",
       "      <th>units_sold</th>\n",
       "      <th>year</th>\n",
       "      <th>month</th>\n",
       "      <th>day</th>\n",
       "      <th>week_of_year</th>\n",
       "      <th>day_of_week</th>\n",
       "    </tr>\n",
       "  </thead>\n",
       "  <tbody>\n",
       "    <tr>\n",
       "      <th>total_price</th>\n",
       "      <td>1.000000</td>\n",
       "      <td>0.966588</td>\n",
       "      <td>-0.273242</td>\n",
       "      <td>0.004502</td>\n",
       "      <td>0.001088</td>\n",
       "      <td>-0.001479</td>\n",
       "      <td>0.000885</td>\n",
       "      <td>0.007838</td>\n",
       "    </tr>\n",
       "    <tr>\n",
       "      <th>base_price</th>\n",
       "      <td>0.966588</td>\n",
       "      <td>1.000000</td>\n",
       "      <td>-0.214327</td>\n",
       "      <td>0.013691</td>\n",
       "      <td>0.004856</td>\n",
       "      <td>0.000062</td>\n",
       "      <td>0.004995</td>\n",
       "      <td>0.002795</td>\n",
       "    </tr>\n",
       "    <tr>\n",
       "      <th>units_sold</th>\n",
       "      <td>-0.273242</td>\n",
       "      <td>-0.214327</td>\n",
       "      <td>1.000000</td>\n",
       "      <td>-0.009076</td>\n",
       "      <td>0.024483</td>\n",
       "      <td>-0.004891</td>\n",
       "      <td>0.024500</td>\n",
       "      <td>-0.022381</td>\n",
       "    </tr>\n",
       "    <tr>\n",
       "      <th>year</th>\n",
       "      <td>0.004502</td>\n",
       "      <td>0.013691</td>\n",
       "      <td>-0.009076</td>\n",
       "      <td>1.000000</td>\n",
       "      <td>-0.153738</td>\n",
       "      <td>-0.124008</td>\n",
       "      <td>-0.157678</td>\n",
       "      <td>0.229564</td>\n",
       "    </tr>\n",
       "    <tr>\n",
       "      <th>month</th>\n",
       "      <td>0.001088</td>\n",
       "      <td>0.004856</td>\n",
       "      <td>0.024483</td>\n",
       "      <td>-0.153738</td>\n",
       "      <td>1.000000</td>\n",
       "      <td>-0.093448</td>\n",
       "      <td>0.995408</td>\n",
       "      <td>0.017875</td>\n",
       "    </tr>\n",
       "    <tr>\n",
       "      <th>day</th>\n",
       "      <td>-0.001479</td>\n",
       "      <td>0.000062</td>\n",
       "      <td>-0.004891</td>\n",
       "      <td>-0.124008</td>\n",
       "      <td>-0.093448</td>\n",
       "      <td>1.000000</td>\n",
       "      <td>0.000618</td>\n",
       "      <td>-0.573851</td>\n",
       "    </tr>\n",
       "    <tr>\n",
       "      <th>week_of_year</th>\n",
       "      <td>0.000885</td>\n",
       "      <td>0.004995</td>\n",
       "      <td>0.024500</td>\n",
       "      <td>-0.157678</td>\n",
       "      <td>0.995408</td>\n",
       "      <td>0.000618</td>\n",
       "      <td>1.000000</td>\n",
       "      <td>-0.046298</td>\n",
       "    </tr>\n",
       "    <tr>\n",
       "      <th>day_of_week</th>\n",
       "      <td>0.007838</td>\n",
       "      <td>0.002795</td>\n",
       "      <td>-0.022381</td>\n",
       "      <td>0.229564</td>\n",
       "      <td>0.017875</td>\n",
       "      <td>-0.573851</td>\n",
       "      <td>-0.046298</td>\n",
       "      <td>1.000000</td>\n",
       "    </tr>\n",
       "  </tbody>\n",
       "</table>\n",
       "</div>"
      ],
      "text/plain": [
       "              total_price  base_price  units_sold      year     month  \\\n",
       "total_price      1.000000    0.966588   -0.273242  0.004502  0.001088   \n",
       "base_price       0.966588    1.000000   -0.214327  0.013691  0.004856   \n",
       "units_sold      -0.273242   -0.214327    1.000000 -0.009076  0.024483   \n",
       "year             0.004502    0.013691   -0.009076  1.000000 -0.153738   \n",
       "month            0.001088    0.004856    0.024483 -0.153738  1.000000   \n",
       "day             -0.001479    0.000062   -0.004891 -0.124008 -0.093448   \n",
       "week_of_year     0.000885    0.004995    0.024500 -0.157678  0.995408   \n",
       "day_of_week      0.007838    0.002795   -0.022381  0.229564  0.017875   \n",
       "\n",
       "                   day  week_of_year  day_of_week  \n",
       "total_price  -0.001479      0.000885     0.007838  \n",
       "base_price    0.000062      0.004995     0.002795  \n",
       "units_sold   -0.004891      0.024500    -0.022381  \n",
       "year         -0.124008     -0.157678     0.229564  \n",
       "month        -0.093448      0.995408     0.017875  \n",
       "day           1.000000      0.000618    -0.573851  \n",
       "week_of_year  0.000618      1.000000    -0.046298  \n",
       "day_of_week  -0.573851     -0.046298     1.000000  "
      ]
     },
     "execution_count": 55,
     "metadata": {},
     "output_type": "execute_result"
    }
   ],
   "source": [
    "train2.corr()"
   ]
  },
  {
   "cell_type": "code",
   "execution_count": 56,
   "metadata": {
    "colab": {
     "base_uri": "https://localhost:8080/",
     "height": 654
    },
    "id": "WdjvmJna1GyT",
    "outputId": "5ccd3e33-2c56-498c-cf0c-eedbeba19f3b"
   },
   "outputs": [
    {
     "data": {
      "image/png": "[encoded data removed]",
      "text/plain": [
       "<Figure size 720x720 with 2 Axes>"
      ]
     },
     "metadata": {
      "needs_background": "light"
     },
     "output_type": "display_data"
    }
   ],
   "source": [
    "correlation = round(train2.corr(), 2)\n",
    "plt.figure(figsize = (10, 10))\n",
    "ax = sns.heatmap(correlation, annot = True)\n",
    "plt.show()"
   ]
  },
  {
   "cell_type": "code",
   "execution_count": 57,
   "metadata": {
    "id": "wYs8mxJX1G4q"
   },
   "outputs": [],
   "source": [
    "train['store_id'] = train['store_id'].astype('int64')\n",
    "train['sku_id'] = train['sku_id'].astype('int64')\n",
    "train['is_display_sku'] = train['is_display_sku'].astype('int64')\n",
    "train['is_featured_sku'] = train['is_featured_sku'].astype('int64')"
   ]
  },
  {
   "cell_type": "markdown",
   "metadata": {
    "id": "tqOvN-O0Ni62"
   },
   "source": [
    "# Building Linear Regression Model"
   ]
  },
  {
   "cell_type": "code",
   "execution_count": 58,
   "metadata": {},
   "outputs": [],
   "source": [
    "from sklearn import preprocessing\n",
    "from sklearn.linear_model import LinearRegression as lr\n",
    "from sklearn.metrics import mean_squared_error, r2_score\n",
    "from sklearn.metrics import classification_report, confusion_matrix\n",
    "from sklearn.model_selection import train_test_split\n",
    "from sklearn import metrics\n",
    "from sklearn.model_selection import cross_val_score\n",
    "from sklearn.metrics import mean_squared_log_error as msle"
   ]
  },
  {
   "cell_type": "code",
   "execution_count": 59,
   "metadata": {},
   "outputs": [],
   "source": [
    "train2['units_sold'] = np.log1p(train2['units_sold'])"
   ]
  },
  {
   "cell_type": "code",
   "execution_count": 60,
   "metadata": {
    "id": "nbX3qDzh1G-q"
   },
   "outputs": [],
   "source": [
    "train2['base_price'] = np.log(train2['base_price'])"
   ]
  },
  {
   "cell_type": "code",
   "execution_count": 61,
   "metadata": {
    "colab": {
     "base_uri": "https://localhost:8080/"
    },
    "id": "hzXtTStF3kVO",
    "outputId": "741ecfc1-da34-4b1a-f299-15a3c4c343e5"
   },
   "outputs": [
    {
     "data": {
      "text/plain": [
       "((136589, 11), (136589,))"
      ]
     },
     "execution_count": 61,
     "metadata": {},
     "output_type": "execute_result"
    }
   ],
   "source": [
    "x = train2.drop(columns = ['units_sold'], axis = 1)   # independent variables\n",
    "y = train2['units_sold']      # dependent variables\n",
    "\n",
    "x.shape , y.shape"
   ]
  },
  {
   "cell_type": "code",
   "execution_count": 62,
   "metadata": {
    "id": "bZ-H_hd63kYk"
   },
   "outputs": [],
   "source": [
    "x_train, x_test, y_train, y_test = train_test_split(x, y, test_size = 0.25, random_state = 1000)"
   ]
  },
  {
   "cell_type": "code",
   "execution_count": 63,
   "metadata": {},
   "outputs": [
    {
     "name": "stdout",
     "output_type": "stream",
     "text": [
      "       store_id  sku_id  total_price  base_price is_featured_sku  \\\n",
      "3210       9789  216418      71.2500    4.481306               0   \n",
      "79355      9632  216419      69.8250    4.440148               0   \n",
      "58907      8091  216425     134.6625    4.902772               0   \n",
      "29993      9954  245387     355.5375    6.151748               1   \n",
      "10761      9092  219844     235.1250    5.460117               0   \n",
      "...         ...     ...          ...         ...             ...   \n",
      "123063     9432  300291     112.5750    4.723620               0   \n",
      "129532     8317  547934     177.4125    5.178478               0   \n",
      "22793      9713  300021     106.1625    4.595499               0   \n",
      "26815      8438  219009     223.0125    5.407228               0   \n",
      "16222      8063  216419      84.0750    4.431709               0   \n",
      "\n",
      "       is_display_sku  year  month  day  week_of_year  day_of_week  \n",
      "3210                1  2011      1   31             5            0  \n",
      "79355               0  2012      8    5            31            6  \n",
      "58907               0  2012      9    1            35            5  \n",
      "29993               1  2011     11    7            45            0  \n",
      "10761               0  2011      3   21            12            0  \n",
      "...               ...   ...    ...  ...           ...          ...  \n",
      "123063              0  2013      1   29             5            1  \n",
      "129532              0  2013     12    3            49            1  \n",
      "22793               1  2011      5   30            22            0  \n",
      "26815               0  2011      6   27            26            0  \n",
      "16222               0  2011      4   25            17            0  \n",
      "\n",
      "[34148 rows x 11 columns] 3210      4.248495\n",
      "79355     3.433987\n",
      "58907     2.890372\n",
      "29993     3.044522\n",
      "10761     2.564949\n",
      "            ...   \n",
      "123063    1.609438\n",
      "129532    3.091042\n",
      "22793     3.988984\n",
      "26815     4.394449\n",
      "16222     4.127134\n",
      "Name: units_sold, Length: 34148, dtype: float64\n"
     ]
    }
   ],
   "source": [
    "print(x_test, y_test)"
   ]
  },
  {
   "cell_type": "code",
   "execution_count": 64,
   "metadata": {},
   "outputs": [
    {
     "data": {
      "text/plain": [
       "LinearRegression()"
      ]
     },
     "execution_count": 64,
     "metadata": {},
     "output_type": "execute_result"
    }
   ],
   "source": [
    "lin_model = lr()\n",
    "lin_model.fit(x_train, y_train)"
   ]
  },
  {
   "cell_type": "code",
   "execution_count": 65,
   "metadata": {},
   "outputs": [
    {
     "data": {
      "text/plain": [
       "array([3.580024  , 3.48886261, 3.48369887, ..., 2.75932577, 3.48745959,\n",
       "       2.76480218])"
      ]
     },
     "execution_count": 65,
     "metadata": {},
     "output_type": "execute_result"
    }
   ],
   "source": [
    "pred = lin_model.predict(x_train)\n",
    "pred"
   ]
  },
  {
   "cell_type": "code",
   "execution_count": 66,
   "metadata": {},
   "outputs": [
    {
     "data": {
      "text/plain": [
       "0.15934815892930618"
      ]
     },
     "execution_count": 66,
     "metadata": {},
     "output_type": "execute_result"
    }
   ],
   "source": [
    "rmsle_train = np.sqrt(msle(y_train, pred))\n",
    "rmsle_train"
   ]
  },
  {
   "cell_type": "code",
   "execution_count": 67,
   "metadata": {},
   "outputs": [
    {
     "data": {
      "text/plain": [
       "array([4.0226815 , 3.57685682, 3.59961124, ..., 3.76737225, 3.49655133,\n",
       "       3.56470587])"
      ]
     },
     "execution_count": 67,
     "metadata": {},
     "output_type": "execute_result"
    }
   ],
   "source": [
    "y_pred = lin_model.predict(x_test)\n",
    "y_pred"
   ]
  },
  {
   "cell_type": "code",
   "execution_count": 68,
   "metadata": {},
   "outputs": [
    {
     "data": {
      "text/plain": [
       "0.1611275995302513"
      ]
     },
     "execution_count": 68,
     "metadata": {},
     "output_type": "execute_result"
    }
   ],
   "source": [
    "rmsle_test = np.sqrt(msle(y_test, y_pred))\n",
    "rmsle_test"
   ]
  },
  {
   "cell_type": "code",
   "execution_count": 69,
   "metadata": {},
   "outputs": [
    {
     "name": "stdout",
     "output_type": "stream",
     "text": [
      "TRAIN RMSLE VALUE 0.15934815892930618\n"
     ]
    }
   ],
   "source": [
    "print('TRAIN RMSLE VALUE', rmsle_train)"
   ]
  },
  {
   "cell_type": "code",
   "execution_count": 70,
   "metadata": {},
   "outputs": [
    {
     "name": "stdout",
     "output_type": "stream",
     "text": [
      "TEST RMSLE VALUE 0.1611275995302513\n"
     ]
    }
   ],
   "source": [
    "print('TEST RMSLE VALUE', rmsle_test)"
   ]
  },
  {
   "cell_type": "code",
   "execution_count": 71,
   "metadata": {},
   "outputs": [
    {
     "data": {
      "text/plain": [
       "<AxesSubplot:xlabel='units_sold'>"
      ]
     },
     "execution_count": 71,
     "metadata": {},
     "output_type": "execute_result"
    },
    {
     "data": {
      "image/png": "[encoded data removed]",
      "text/plain": [
       "<Figure size 432x288 with 1 Axes>"
      ]
     },
     "metadata": {
      "needs_background": "light"
     },
     "output_type": "display_data"
    }
   ],
   "source": [
    "sns.regplot(y_test, y_pred)"
   ]
  },
  {
   "cell_type": "code",
   "execution_count": 72,
   "metadata": {
    "colab": {
     "base_uri": "https://localhost:8080/"
    },
    "id": "wri8aYW43kdv",
    "outputId": "4909ec33-d947-4350-a10c-8053d8e38a1b"
   },
   "outputs": [
    {
     "data": {
      "text/plain": [
       "array([ 57.9460913 ,  58.31693779,  71.29663127, ..., 211.31438282,\n",
       "       100.50614986, 122.45730112])"
      ]
     },
     "execution_count": 72,
     "metadata": {},
     "output_type": "execute_result"
    }
   ],
   "source": [
    "prediction = lin_model.predict(test2)\n",
    "prediction"
   ]
  },
  {
   "cell_type": "code",
   "execution_count": 73,
   "metadata": {
    "id": "UFSxdY9q3kgs"
   },
   "outputs": [],
   "source": [
    "test2['Predicted Sales'] = prediction"
   ]
  },
  {
   "cell_type": "code",
   "execution_count": 75,
   "metadata": {
    "colab": {
     "base_uri": "https://localhost:8080/",
     "height": 206
    },
    "id": "ICpAHKqQ3kju",
    "outputId": "4b394d53-187d-48aa-b81d-80961583cf3f"
   },
   "outputs": [
    {
     "data": {
      "text/html": [
       "<div>\n",
       "<style scoped>\n",
       "    .dataframe tbody tr th:only-of-type {\n",
       "        vertical-align: middle;\n",
       "    }\n",
       "\n",
       "    .dataframe tbody tr th {\n",
       "        vertical-align: top;\n",
       "    }\n",
       "\n",
       "    .dataframe thead th {\n",
       "        text-align: right;\n",
       "    }\n",
       "</style>\n",
       "<table border=\"1\" class=\"dataframe\">\n",
       "  <thead>\n",
       "    <tr style=\"text-align: right;\">\n",
       "      <th></th>\n",
       "      <th>store_id</th>\n",
       "      <th>sku_id</th>\n",
       "      <th>total_price</th>\n",
       "      <th>base_price</th>\n",
       "      <th>is_featured_sku</th>\n",
       "      <th>is_display_sku</th>\n",
       "      <th>year</th>\n",
       "      <th>month</th>\n",
       "      <th>day</th>\n",
       "      <th>week_of_year</th>\n",
       "      <th>day_of_week</th>\n",
       "      <th>Predicted Sales</th>\n",
       "    </tr>\n",
       "  </thead>\n",
       "  <tbody>\n",
       "    <tr>\n",
       "      <th>0</th>\n",
       "      <td>8091</td>\n",
       "      <td>216418</td>\n",
       "      <td>108.3000</td>\n",
       "      <td>108.3000</td>\n",
       "      <td>0</td>\n",
       "      <td>0</td>\n",
       "      <td>2013</td>\n",
       "      <td>7</td>\n",
       "      <td>16</td>\n",
       "      <td>29</td>\n",
       "      <td>1</td>\n",
       "      <td>57.946091</td>\n",
       "    </tr>\n",
       "    <tr>\n",
       "      <th>1</th>\n",
       "      <td>8091</td>\n",
       "      <td>216419</td>\n",
       "      <td>109.0125</td>\n",
       "      <td>109.0125</td>\n",
       "      <td>0</td>\n",
       "      <td>0</td>\n",
       "      <td>2013</td>\n",
       "      <td>7</td>\n",
       "      <td>16</td>\n",
       "      <td>29</td>\n",
       "      <td>1</td>\n",
       "      <td>58.316938</td>\n",
       "    </tr>\n",
       "    <tr>\n",
       "      <th>2</th>\n",
       "      <td>8091</td>\n",
       "      <td>216425</td>\n",
       "      <td>133.9500</td>\n",
       "      <td>133.9500</td>\n",
       "      <td>0</td>\n",
       "      <td>0</td>\n",
       "      <td>2013</td>\n",
       "      <td>7</td>\n",
       "      <td>16</td>\n",
       "      <td>29</td>\n",
       "      <td>1</td>\n",
       "      <td>71.296631</td>\n",
       "    </tr>\n",
       "    <tr>\n",
       "      <th>3</th>\n",
       "      <td>8091</td>\n",
       "      <td>216233</td>\n",
       "      <td>133.9500</td>\n",
       "      <td>133.9500</td>\n",
       "      <td>0</td>\n",
       "      <td>0</td>\n",
       "      <td>2013</td>\n",
       "      <td>7</td>\n",
       "      <td>16</td>\n",
       "      <td>29</td>\n",
       "      <td>1</td>\n",
       "      <td>71.297070</td>\n",
       "    </tr>\n",
       "    <tr>\n",
       "      <th>4</th>\n",
       "      <td>8091</td>\n",
       "      <td>217390</td>\n",
       "      <td>176.7000</td>\n",
       "      <td>176.7000</td>\n",
       "      <td>0</td>\n",
       "      <td>0</td>\n",
       "      <td>2013</td>\n",
       "      <td>7</td>\n",
       "      <td>16</td>\n",
       "      <td>29</td>\n",
       "      <td>1</td>\n",
       "      <td>93.545351</td>\n",
       "    </tr>\n",
       "    <tr>\n",
       "      <th>5</th>\n",
       "      <td>8091</td>\n",
       "      <td>219009</td>\n",
       "      <td>218.7375</td>\n",
       "      <td>218.7375</td>\n",
       "      <td>0</td>\n",
       "      <td>0</td>\n",
       "      <td>2013</td>\n",
       "      <td>7</td>\n",
       "      <td>16</td>\n",
       "      <td>29</td>\n",
       "      <td>1</td>\n",
       "      <td>115.421727</td>\n",
       "    </tr>\n",
       "    <tr>\n",
       "      <th>6</th>\n",
       "      <td>8091</td>\n",
       "      <td>219029</td>\n",
       "      <td>341.2875</td>\n",
       "      <td>341.2875</td>\n",
       "      <td>0</td>\n",
       "      <td>0</td>\n",
       "      <td>2013</td>\n",
       "      <td>7</td>\n",
       "      <td>16</td>\n",
       "      <td>29</td>\n",
       "      <td>1</td>\n",
       "      <td>179.207671</td>\n",
       "    </tr>\n",
       "    <tr>\n",
       "      <th>7</th>\n",
       "      <td>8091</td>\n",
       "      <td>223245</td>\n",
       "      <td>233.7000</td>\n",
       "      <td>233.7000</td>\n",
       "      <td>0</td>\n",
       "      <td>0</td>\n",
       "      <td>2013</td>\n",
       "      <td>7</td>\n",
       "      <td>16</td>\n",
       "      <td>29</td>\n",
       "      <td>1</td>\n",
       "      <td>123.199864</td>\n",
       "    </tr>\n",
       "    <tr>\n",
       "      <th>8</th>\n",
       "      <td>8091</td>\n",
       "      <td>223153</td>\n",
       "      <td>240.1125</td>\n",
       "      <td>240.1125</td>\n",
       "      <td>0</td>\n",
       "      <td>0</td>\n",
       "      <td>2013</td>\n",
       "      <td>7</td>\n",
       "      <td>16</td>\n",
       "      <td>29</td>\n",
       "      <td>1</td>\n",
       "      <td>126.537713</td>\n",
       "    </tr>\n",
       "    <tr>\n",
       "      <th>9</th>\n",
       "      <td>8095</td>\n",
       "      <td>216418</td>\n",
       "      <td>109.7250</td>\n",
       "      <td>109.7250</td>\n",
       "      <td>0</td>\n",
       "      <td>0</td>\n",
       "      <td>2013</td>\n",
       "      <td>7</td>\n",
       "      <td>16</td>\n",
       "      <td>29</td>\n",
       "      <td>1</td>\n",
       "      <td>58.687739</td>\n",
       "    </tr>\n",
       "  </tbody>\n",
       "</table>\n",
       "</div>"
      ],
      "text/plain": [
       "   store_id  sku_id  total_price  base_price  is_featured_sku  is_display_sku  \\\n",
       "0      8091  216418     108.3000    108.3000                0               0   \n",
       "1      8091  216419     109.0125    109.0125                0               0   \n",
       "2      8091  216425     133.9500    133.9500                0               0   \n",
       "3      8091  216233     133.9500    133.9500                0               0   \n",
       "4      8091  217390     176.7000    176.7000                0               0   \n",
       "5      8091  219009     218.7375    218.7375                0               0   \n",
       "6      8091  219029     341.2875    341.2875                0               0   \n",
       "7      8091  223245     233.7000    233.7000                0               0   \n",
       "8      8091  223153     240.1125    240.1125                0               0   \n",
       "9      8095  216418     109.7250    109.7250                0               0   \n",
       "\n",
       "   year  month  day  week_of_year  day_of_week  Predicted Sales  \n",
       "0  2013      7   16            29            1        57.946091  \n",
       "1  2013      7   16            29            1        58.316938  \n",
       "2  2013      7   16            29            1        71.296631  \n",
       "3  2013      7   16            29            1        71.297070  \n",
       "4  2013      7   16            29            1        93.545351  \n",
       "5  2013      7   16            29            1       115.421727  \n",
       "6  2013      7   16            29            1       179.207671  \n",
       "7  2013      7   16            29            1       123.199864  \n",
       "8  2013      7   16            29            1       126.537713  \n",
       "9  2013      7   16            29            1        58.687739  "
      ]
     },
     "execution_count": 75,
     "metadata": {},
     "output_type": "execute_result"
    }
   ],
   "source": [
    "test2.head(10)"
   ]
  },
  {
   "cell_type": "code",
   "execution_count": null,
   "metadata": {},
   "outputs": [],
   "source": []
  },
  {
   "cell_type": "code",
   "execution_count": null,
   "metadata": {},
   "outputs": [],
   "source": []
  },
  {
   "cell_type": "code",
   "execution_count": null,
   "metadata": {},
   "outputs": [],
   "source": []
  },
  {
   "cell_type": "code",
   "execution_count": null,
   "metadata": {},
   "outputs": [],
   "source": []
  },
  {
   "cell_type": "code",
   "execution_count": null,
   "metadata": {
    "id": "LcEexKfn1HHc"
   },
   "outputs": [],
   "source": []
  },
  {
   "cell_type": "code",
   "execution_count": null,
   "metadata": {},
   "outputs": [],
   "source": []
  }
 ],
 "metadata": {
  "colab": {
   "provenance": []
  },
  "kernelspec": {
   "display_name": "Python 3",
   "language": "python",
   "name": "python3"
  },
  "language_info": {
   "codemirror_mode": {
    "name": "ipython",
    "version": 3
   },
   "file_extension": ".py",
   "mimetype": "text/x-python",
   "name": "python",
   "nbconvert_exporter": "python",
   "pygments_lexer": "ipython3",
   "version": "3.8.8"
  }
 },
 "nbformat": 4,
 "nbformat_minor": 1
}
